{
 "cells": [
  {
   "cell_type": "markdown",
   "metadata": {},
   "source": [
    "# Using the European Football Database from 2008-2016...\n",
    "\n",
    "## How many goals per game are scored throughout Europe and has this # trended in any direction over these 8 years?  \n",
    "\n",
    "## Which leagues are the highest and low scoring over this time period?\n",
    "\n",
    "## How often do home teams win across Europe, and has this trended in any direction during these 8 years?\n",
    "\n",
    "##  Do Home teams have more success in some countries as compared to others?"
   ]
  },
  {
   "cell_type": "code",
   "execution_count": 1,
   "metadata": {},
   "outputs": [],
   "source": [
    "import pandas as pd\n",
    "import matplotlib.pyplot as plt\n",
    "import seaborn as sns\n",
    "import numpy as np"
   ]
  },
  {
   "cell_type": "code",
   "execution_count": 2,
   "metadata": {},
   "outputs": [],
   "source": [
    "football = pd.read_csv('..\\data\\FootballDataEurope.csv')"
   ]
  },
  {
   "cell_type": "code",
   "execution_count": 3,
   "metadata": {},
   "outputs": [
    {
     "name": "stdout",
     "output_type": "stream",
     "text": [
      "<class 'pandas.core.frame.DataFrame'>\n",
      "RangeIndex: 25979 entries, 0 to 25978\n",
      "Data columns (total 18 columns):\n",
      " #   Column          Non-Null Count  Dtype  \n",
      "---  ------          --------------  -----  \n",
      " 0   id              25979 non-null  int64  \n",
      " 1   country_name    25979 non-null  object \n",
      " 2   league_name     25979 non-null  object \n",
      " 3   season          25979 non-null  object \n",
      " 4   stage           25979 non-null  int64  \n",
      " 5   date            25979 non-null  object \n",
      " 6   home_team       25979 non-null  object \n",
      " 7   away_team       25979 non-null  object \n",
      " 8   home_team_goal  25979 non-null  int64  \n",
      " 9   away_team_goal  25979 non-null  int64  \n",
      " 10  B365H           22592 non-null  float64\n",
      " 11  B365D           22592 non-null  float64\n",
      " 12  B365A           22592 non-null  float64\n",
      " 13  BSH             14161 non-null  float64\n",
      " 14  BSD             14161 non-null  float64\n",
      " 15  BSA             14161 non-null  float64\n",
      " 16  diff_goals      25979 non-null  int64  \n",
      " 17  target          25979 non-null  int64  \n",
      "dtypes: float64(6), int64(6), object(6)\n",
      "memory usage: 3.6+ MB\n"
     ]
    }
   ],
   "source": [
    "football.info()"
   ]
  },
  {
   "cell_type": "code",
   "execution_count": 4,
   "metadata": {},
   "outputs": [
    {
     "name": "stdout",
     "output_type": "stream",
     "text": [
      "<class 'pandas.core.frame.DataFrame'>\n",
      "RangeIndex: 25979 entries, 0 to 25978\n",
      "Data columns (total 5 columns):\n",
      " #   Column     Non-Null Count  Dtype \n",
      "---  ------     --------------  ----- \n",
      " 0   country    25979 non-null  object\n",
      " 1   season     25979 non-null  object\n",
      " 2   home_goal  25979 non-null  int64 \n",
      " 3   away_goal  25979 non-null  int64 \n",
      " 4   goal_diff  25979 non-null  int64 \n",
      "dtypes: int64(3), object(2)\n",
      "memory usage: 1014.9+ KB\n"
     ]
    }
   ],
   "source": [
    "football = football[['country_name', 'season', 'home_team_goal', 'away_team_goal', 'diff_goals']]\n",
    "football = football.rename(columns = {'country_name':'country', 'home_team_goal':'home_goal', 'away_team_goal':'away_goal', 'diff_goals':'goal_diff'})\n",
    "football.info()"
   ]
  },
  {
   "cell_type": "code",
   "execution_count": 5,
   "metadata": {},
   "outputs": [
    {
     "data": {
      "text/html": [
       "<div>\n",
       "<style scoped>\n",
       "    .dataframe tbody tr th:only-of-type {\n",
       "        vertical-align: middle;\n",
       "    }\n",
       "\n",
       "    .dataframe tbody tr th {\n",
       "        vertical-align: top;\n",
       "    }\n",
       "\n",
       "    .dataframe thead th {\n",
       "        text-align: right;\n",
       "    }\n",
       "</style>\n",
       "<table border=\"1\" class=\"dataframe\">\n",
       "  <thead>\n",
       "    <tr style=\"text-align: right;\">\n",
       "      <th></th>\n",
       "      <th>country</th>\n",
       "      <th>season</th>\n",
       "      <th>home_goal</th>\n",
       "      <th>away_goal</th>\n",
       "      <th>goal_diff</th>\n",
       "      <th>winner</th>\n",
       "    </tr>\n",
       "  </thead>\n",
       "  <tbody>\n",
       "    <tr>\n",
       "      <th>0</th>\n",
       "      <td>Switzerland</td>\n",
       "      <td>2008/2009</td>\n",
       "      <td>1</td>\n",
       "      <td>2</td>\n",
       "      <td>-1</td>\n",
       "      <td>away_team</td>\n",
       "    </tr>\n",
       "    <tr>\n",
       "      <th>1</th>\n",
       "      <td>Switzerland</td>\n",
       "      <td>2008/2009</td>\n",
       "      <td>3</td>\n",
       "      <td>1</td>\n",
       "      <td>2</td>\n",
       "      <td>home_team</td>\n",
       "    </tr>\n",
       "    <tr>\n",
       "      <th>2</th>\n",
       "      <td>Switzerland</td>\n",
       "      <td>2008/2009</td>\n",
       "      <td>1</td>\n",
       "      <td>2</td>\n",
       "      <td>-1</td>\n",
       "      <td>away_team</td>\n",
       "    </tr>\n",
       "    <tr>\n",
       "      <th>3</th>\n",
       "      <td>Switzerland</td>\n",
       "      <td>2008/2009</td>\n",
       "      <td>1</td>\n",
       "      <td>2</td>\n",
       "      <td>-1</td>\n",
       "      <td>away_team</td>\n",
       "    </tr>\n",
       "    <tr>\n",
       "      <th>4</th>\n",
       "      <td>Switzerland</td>\n",
       "      <td>2008/2009</td>\n",
       "      <td>1</td>\n",
       "      <td>0</td>\n",
       "      <td>1</td>\n",
       "      <td>home_team</td>\n",
       "    </tr>\n",
       "  </tbody>\n",
       "</table>\n",
       "</div>"
      ],
      "text/plain": [
       "       country     season  home_goal  away_goal  goal_diff     winner\n",
       "0  Switzerland  2008/2009          1          2         -1  away_team\n",
       "1  Switzerland  2008/2009          3          1          2  home_team\n",
       "2  Switzerland  2008/2009          1          2         -1  away_team\n",
       "3  Switzerland  2008/2009          1          2         -1  away_team\n",
       "4  Switzerland  2008/2009          1          0          1  home_team"
      ]
     },
     "execution_count": 5,
     "metadata": {},
     "output_type": "execute_result"
    }
   ],
   "source": [
    "football['winner'] = football.goal_diff.apply(lambda x: 'home_team' if x > 0 else ('away_team' if x < 0 else 'draw'))\n",
    "football.head()"
   ]
  },
  {
   "cell_type": "code",
   "execution_count": 6,
   "metadata": {},
   "outputs": [
    {
     "data": {
      "text/html": [
       "<div>\n",
       "<style scoped>\n",
       "    .dataframe tbody tr th:only-of-type {\n",
       "        vertical-align: middle;\n",
       "    }\n",
       "\n",
       "    .dataframe tbody tr th {\n",
       "        vertical-align: top;\n",
       "    }\n",
       "\n",
       "    .dataframe thead th {\n",
       "        text-align: right;\n",
       "    }\n",
       "</style>\n",
       "<table border=\"1\" class=\"dataframe\">\n",
       "  <thead>\n",
       "    <tr style=\"text-align: right;\">\n",
       "      <th></th>\n",
       "      <th>country</th>\n",
       "      <th>season</th>\n",
       "      <th>home_goal</th>\n",
       "      <th>away_goal</th>\n",
       "      <th>goal_diff</th>\n",
       "      <th>winner</th>\n",
       "      <th>away_team</th>\n",
       "      <th>draw</th>\n",
       "      <th>home_team</th>\n",
       "    </tr>\n",
       "  </thead>\n",
       "  <tbody>\n",
       "    <tr>\n",
       "      <th>0</th>\n",
       "      <td>Switzerland</td>\n",
       "      <td>2008/2009</td>\n",
       "      <td>1</td>\n",
       "      <td>2</td>\n",
       "      <td>-1</td>\n",
       "      <td>away_team</td>\n",
       "      <td>1</td>\n",
       "      <td>0</td>\n",
       "      <td>0</td>\n",
       "    </tr>\n",
       "    <tr>\n",
       "      <th>1</th>\n",
       "      <td>Switzerland</td>\n",
       "      <td>2008/2009</td>\n",
       "      <td>3</td>\n",
       "      <td>1</td>\n",
       "      <td>2</td>\n",
       "      <td>home_team</td>\n",
       "      <td>0</td>\n",
       "      <td>0</td>\n",
       "      <td>1</td>\n",
       "    </tr>\n",
       "    <tr>\n",
       "      <th>2</th>\n",
       "      <td>Switzerland</td>\n",
       "      <td>2008/2009</td>\n",
       "      <td>1</td>\n",
       "      <td>2</td>\n",
       "      <td>-1</td>\n",
       "      <td>away_team</td>\n",
       "      <td>1</td>\n",
       "      <td>0</td>\n",
       "      <td>0</td>\n",
       "    </tr>\n",
       "    <tr>\n",
       "      <th>3</th>\n",
       "      <td>Switzerland</td>\n",
       "      <td>2008/2009</td>\n",
       "      <td>1</td>\n",
       "      <td>2</td>\n",
       "      <td>-1</td>\n",
       "      <td>away_team</td>\n",
       "      <td>1</td>\n",
       "      <td>0</td>\n",
       "      <td>0</td>\n",
       "    </tr>\n",
       "    <tr>\n",
       "      <th>4</th>\n",
       "      <td>Switzerland</td>\n",
       "      <td>2008/2009</td>\n",
       "      <td>1</td>\n",
       "      <td>0</td>\n",
       "      <td>1</td>\n",
       "      <td>home_team</td>\n",
       "      <td>0</td>\n",
       "      <td>0</td>\n",
       "      <td>1</td>\n",
       "    </tr>\n",
       "  </tbody>\n",
       "</table>\n",
       "</div>"
      ],
      "text/plain": [
       "       country     season  home_goal  away_goal  goal_diff     winner  \\\n",
       "0  Switzerland  2008/2009          1          2         -1  away_team   \n",
       "1  Switzerland  2008/2009          3          1          2  home_team   \n",
       "2  Switzerland  2008/2009          1          2         -1  away_team   \n",
       "3  Switzerland  2008/2009          1          2         -1  away_team   \n",
       "4  Switzerland  2008/2009          1          0          1  home_team   \n",
       "\n",
       "   away_team  draw  home_team  \n",
       "0          1     0          0  \n",
       "1          0     0          1  \n",
       "2          1     0          0  \n",
       "3          1     0          0  \n",
       "4          0     0          1  "
      ]
     },
     "execution_count": 6,
     "metadata": {},
     "output_type": "execute_result"
    }
   ],
   "source": [
    "dummies = pd.get_dummies(football['winner'])\n",
    "football = pd.concat([football, dummies], axis=1)\n",
    "football.head()"
   ]
  },
  {
   "cell_type": "code",
   "execution_count": 7,
   "metadata": {},
   "outputs": [
    {
     "data": {
      "text/html": [
       "<div>\n",
       "<style scoped>\n",
       "    .dataframe tbody tr th:only-of-type {\n",
       "        vertical-align: middle;\n",
       "    }\n",
       "\n",
       "    .dataframe tbody tr th {\n",
       "        vertical-align: top;\n",
       "    }\n",
       "\n",
       "    .dataframe thead th {\n",
       "        text-align: right;\n",
       "    }\n",
       "</style>\n",
       "<table border=\"1\" class=\"dataframe\">\n",
       "  <thead>\n",
       "    <tr style=\"text-align: right;\">\n",
       "      <th></th>\n",
       "      <th>country</th>\n",
       "      <th>season</th>\n",
       "      <th>home_goal</th>\n",
       "      <th>away_goal</th>\n",
       "      <th>goal_diff</th>\n",
       "      <th>winner</th>\n",
       "      <th>away_team</th>\n",
       "      <th>draw</th>\n",
       "      <th>home_team</th>\n",
       "      <th>total_goal</th>\n",
       "    </tr>\n",
       "  </thead>\n",
       "  <tbody>\n",
       "    <tr>\n",
       "      <th>0</th>\n",
       "      <td>Switzerland</td>\n",
       "      <td>2008/2009</td>\n",
       "      <td>1</td>\n",
       "      <td>2</td>\n",
       "      <td>-1</td>\n",
       "      <td>away_team</td>\n",
       "      <td>1</td>\n",
       "      <td>0</td>\n",
       "      <td>0</td>\n",
       "      <td>3</td>\n",
       "    </tr>\n",
       "    <tr>\n",
       "      <th>1</th>\n",
       "      <td>Switzerland</td>\n",
       "      <td>2008/2009</td>\n",
       "      <td>3</td>\n",
       "      <td>1</td>\n",
       "      <td>2</td>\n",
       "      <td>home_team</td>\n",
       "      <td>0</td>\n",
       "      <td>0</td>\n",
       "      <td>1</td>\n",
       "      <td>4</td>\n",
       "    </tr>\n",
       "    <tr>\n",
       "      <th>2</th>\n",
       "      <td>Switzerland</td>\n",
       "      <td>2008/2009</td>\n",
       "      <td>1</td>\n",
       "      <td>2</td>\n",
       "      <td>-1</td>\n",
       "      <td>away_team</td>\n",
       "      <td>1</td>\n",
       "      <td>0</td>\n",
       "      <td>0</td>\n",
       "      <td>3</td>\n",
       "    </tr>\n",
       "    <tr>\n",
       "      <th>3</th>\n",
       "      <td>Switzerland</td>\n",
       "      <td>2008/2009</td>\n",
       "      <td>1</td>\n",
       "      <td>2</td>\n",
       "      <td>-1</td>\n",
       "      <td>away_team</td>\n",
       "      <td>1</td>\n",
       "      <td>0</td>\n",
       "      <td>0</td>\n",
       "      <td>3</td>\n",
       "    </tr>\n",
       "    <tr>\n",
       "      <th>4</th>\n",
       "      <td>Switzerland</td>\n",
       "      <td>2008/2009</td>\n",
       "      <td>1</td>\n",
       "      <td>0</td>\n",
       "      <td>1</td>\n",
       "      <td>home_team</td>\n",
       "      <td>0</td>\n",
       "      <td>0</td>\n",
       "      <td>1</td>\n",
       "      <td>1</td>\n",
       "    </tr>\n",
       "  </tbody>\n",
       "</table>\n",
       "</div>"
      ],
      "text/plain": [
       "       country     season  home_goal  away_goal  goal_diff     winner  \\\n",
       "0  Switzerland  2008/2009          1          2         -1  away_team   \n",
       "1  Switzerland  2008/2009          3          1          2  home_team   \n",
       "2  Switzerland  2008/2009          1          2         -1  away_team   \n",
       "3  Switzerland  2008/2009          1          2         -1  away_team   \n",
       "4  Switzerland  2008/2009          1          0          1  home_team   \n",
       "\n",
       "   away_team  draw  home_team  total_goal  \n",
       "0          1     0          0           3  \n",
       "1          0     0          1           4  \n",
       "2          1     0          0           3  \n",
       "3          1     0          0           3  \n",
       "4          0     0          1           1  "
      ]
     },
     "execution_count": 7,
     "metadata": {},
     "output_type": "execute_result"
    }
   ],
   "source": [
    "football['total_goal'] = (football.home_goal + football.away_goal)\n",
    "football.head()"
   ]
  },
  {
   "cell_type": "code",
   "execution_count": 8,
   "metadata": {},
   "outputs": [
    {
     "name": "stderr",
     "output_type": "stream",
     "text": [
      "<ipython-input-8-45e31155ffd4>:1: FutureWarning: Indexing with multiple keys (implicitly converted to a tuple of keys) will be deprecated, use a list instead.\n",
      "  df = football.groupby(['season', 'country'])['total_goal', 'home_team', 'away_team', 'draw'].mean().reset_index()\n"
     ]
    },
    {
     "data": {
      "text/html": [
       "<div>\n",
       "<style scoped>\n",
       "    .dataframe tbody tr th:only-of-type {\n",
       "        vertical-align: middle;\n",
       "    }\n",
       "\n",
       "    .dataframe tbody tr th {\n",
       "        vertical-align: top;\n",
       "    }\n",
       "\n",
       "    .dataframe thead th {\n",
       "        text-align: right;\n",
       "    }\n",
       "</style>\n",
       "<table border=\"1\" class=\"dataframe\">\n",
       "  <thead>\n",
       "    <tr style=\"text-align: right;\">\n",
       "      <th></th>\n",
       "      <th>season</th>\n",
       "      <th>country</th>\n",
       "      <th>total_goal</th>\n",
       "      <th>home_team</th>\n",
       "      <th>away_team</th>\n",
       "      <th>draw</th>\n",
       "    </tr>\n",
       "  </thead>\n",
       "  <tbody>\n",
       "    <tr>\n",
       "      <th>0</th>\n",
       "      <td>2008/2009</td>\n",
       "      <td>Belgium</td>\n",
       "      <td>2.794118</td>\n",
       "      <td>0.486928</td>\n",
       "      <td>0.294118</td>\n",
       "      <td>0.218954</td>\n",
       "    </tr>\n",
       "    <tr>\n",
       "      <th>1</th>\n",
       "      <td>2008/2009</td>\n",
       "      <td>England</td>\n",
       "      <td>2.478947</td>\n",
       "      <td>0.455263</td>\n",
       "      <td>0.289474</td>\n",
       "      <td>0.255263</td>\n",
       "    </tr>\n",
       "    <tr>\n",
       "      <th>2</th>\n",
       "      <td>2008/2009</td>\n",
       "      <td>France</td>\n",
       "      <td>2.257895</td>\n",
       "      <td>0.434211</td>\n",
       "      <td>0.271053</td>\n",
       "      <td>0.294737</td>\n",
       "    </tr>\n",
       "    <tr>\n",
       "      <th>3</th>\n",
       "      <td>2008/2009</td>\n",
       "      <td>Germany</td>\n",
       "      <td>2.921569</td>\n",
       "      <td>0.480392</td>\n",
       "      <td>0.277778</td>\n",
       "      <td>0.241830</td>\n",
       "    </tr>\n",
       "    <tr>\n",
       "      <th>4</th>\n",
       "      <td>2008/2009</td>\n",
       "      <td>Italy</td>\n",
       "      <td>2.600000</td>\n",
       "      <td>0.505263</td>\n",
       "      <td>0.244737</td>\n",
       "      <td>0.250000</td>\n",
       "    </tr>\n",
       "  </tbody>\n",
       "</table>\n",
       "</div>"
      ],
      "text/plain": [
       "      season  country  total_goal  home_team  away_team      draw\n",
       "0  2008/2009  Belgium    2.794118   0.486928   0.294118  0.218954\n",
       "1  2008/2009  England    2.478947   0.455263   0.289474  0.255263\n",
       "2  2008/2009   France    2.257895   0.434211   0.271053  0.294737\n",
       "3  2008/2009  Germany    2.921569   0.480392   0.277778  0.241830\n",
       "4  2008/2009    Italy    2.600000   0.505263   0.244737  0.250000"
      ]
     },
     "execution_count": 8,
     "metadata": {},
     "output_type": "execute_result"
    }
   ],
   "source": [
    "df = football.groupby(['season', 'country'])['total_goal', 'home_team', 'away_team', 'draw'].mean().reset_index()\n",
    "df.head()"
   ]
  },
  {
   "cell_type": "markdown",
   "metadata": {},
   "source": [
    "## Netherlands is the only league to average over 3 goals per game, while Poland and France are the lowest scoring leagues, both averaging just under 2.5 goals per game."
   ]
  },
  {
   "cell_type": "code",
   "execution_count": 9,
   "metadata": {},
   "outputs": [
    {
     "data": {
      "image/png": "[encoded data removed]",
      "text/plain": [
       "<Figure size 1080x576 with 1 Axes>"
      ]
     },
     "metadata": {
      "needs_background": "light"
     },
     "output_type": "display_data"
    }
   ],
   "source": [
    "plt.figure(figsize = (15,8))\n",
    "sns.barplot(data = df, x = 'country', y = 'total_goal')\n",
    "plt.title('Goals per Game in Europe: 2008 - 2016')\n",
    "plt.xlabel('Country')\n",
    "plt.ylabel('Goals per Game')\n",
    "plt.show()"
   ]
  },
  {
   "cell_type": "markdown",
   "metadata": {},
   "source": [
    "# The Average # of goals per game has slightly risen across Europe between 2008 and 2016."
   ]
  },
  {
   "cell_type": "code",
   "execution_count": 10,
   "metadata": {},
   "outputs": [
    {
     "data": {
      "image/png": "[encoded data removed]",
      "text/plain": [
       "<Figure size 1080x576 with 1 Axes>"
      ]
     },
     "metadata": {
      "needs_background": "light"
     },
     "output_type": "display_data"
    }
   ],
   "source": [
    "plt.figure(figsize = (15,8))\n",
    "sns.lineplot(data = df, x = 'season', y = 'total_goal', ci=None)\n",
    "plt.title('Goals per Game in Europe: 2008 - 2016')\n",
    "plt.xlabel('Season')\n",
    "plt.ylabel('Goals per Game')\n",
    "plt.ylim(2, 3)\n",
    "plt.show()"
   ]
  },
  {
   "cell_type": "markdown",
   "metadata": {},
   "source": [
    "## The Hardest Country to get a result as an away team has been Spain.  The most giving home teams have been in Scotland."
   ]
  },
  {
   "cell_type": "code",
   "execution_count": 11,
   "metadata": {
    "scrolled": true
   },
   "outputs": [
    {
     "data": {
      "image/png": "[encoded data removed]",
      "text/plain": [
       "<Figure size 1080x576 with 1 Axes>"
      ]
     },
     "metadata": {
      "needs_background": "light"
     },
     "output_type": "display_data"
    }
   ],
   "source": [
    "plt.figure(figsize = (15,8))\n",
    "sns.barplot(data = df, x = 'country', y = 'home_team')\n",
    "plt.title('Home Team Win % for Europe: 2008 - 2016')\n",
    "plt.xlabel('Country')\n",
    "plt.ylabel('% of games won by home team')\n",
    "plt.show()"
   ]
  },
  {
   "cell_type": "markdown",
   "metadata": {},
   "source": [
    "## European home advantage has slightly decreased in the last 8 years. \n",
    "## Last Season, home teams gained the full 3 points just over 44% of the time, with away teams winning outright slightly less than 31% of the time."
   ]
  },
  {
   "cell_type": "code",
   "execution_count": 12,
   "metadata": {
    "scrolled": true
   },
   "outputs": [
    {
     "data": {
      "image/png": "[encoded data removed]",
      "text/plain": [
       "<Figure size 1080x576 with 1 Axes>"
      ]
     },
     "metadata": {
      "needs_background": "light"
     },
     "output_type": "display_data"
    }
   ],
   "source": [
    "plt.figure(figsize = (15,8))\n",
    "sns.lineplot(data = df, x = 'season', y = 'home_team', ci=None)\n",
    "plt.title('Home Team Win % for Europe: 2008 - 2016')\n",
    "plt.xlabel('Season')\n",
    "plt.ylabel('% of games won by home team')\n",
    "plt.ylim(0.2, 0.6)\n",
    "plt.show()"
   ]
  },
  {
   "cell_type": "code",
   "execution_count": 13,
   "metadata": {},
   "outputs": [
    {
     "data": {
      "image/png": "[encoded data removed]",
      "text/plain": [
       "<Figure size 1080x576 with 1 Axes>"
      ]
     },
     "metadata": {
      "needs_background": "light"
     },
     "output_type": "display_data"
    }
   ],
   "source": [
    "plt.figure(figsize = (15,8))\n",
    "sns.lineplot(data = df, x = 'season', y = 'away_team', ci = None)\n",
    "plt.title('Away Team Win % for Europe: 2008 - 2016')\n",
    "plt.xlabel('Season')\n",
    "plt.ylabel('% of games won by away team')\n",
    "plt.ylim(0.2, 0.6)\n",
    "plt.show()"
   ]
  },
  {
   "cell_type": "markdown",
   "metadata": {},
   "source": [
    "##  Around 1 in 4 games in Europe ends in a Draw."
   ]
  },
  {
   "cell_type": "code",
   "execution_count": 14,
   "metadata": {},
   "outputs": [
    {
     "data": {
      "image/png": "[encoded data removed]",
      "text/plain": [
       "<Figure size 1080x576 with 1 Axes>"
      ]
     },
     "metadata": {
      "needs_background": "light"
     },
     "output_type": "display_data"
    }
   ],
   "source": [
    "plt.figure(figsize = (15,8))\n",
    "sns.lineplot(data = df, x = 'season', y = 'draw', ci = None)\n",
    "plt.title('Draw % for Europe: 2008 - 2016')\n",
    "plt.xlabel('Country')\n",
    "plt.ylabel('% of games won by away team')\n",
    "plt.ylim(0.1, 0.5)\n",
    "plt.show()"
   ]
  }
 ],
 "metadata": {
  "kernelspec": {
   "display_name": "Python 3",
   "language": "python",
   "name": "python3"
  },
  "language_info": {
   "codemirror_mode": {
    "name": "ipython",
    "version": 3
   },
   "file_extension": ".py",
   "mimetype": "text/x-python",
   "name": "python",
   "nbconvert_exporter": "python",
   "pygments_lexer": "ipython3",
   "version": "3.8.5"
  }
 },
 "nbformat": 4,
 "nbformat_minor": 4
}
