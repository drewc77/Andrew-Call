{
 "cells": [
  {
   "cell_type": "code",
   "execution_count": 1,
   "metadata": {},
   "outputs": [],
   "source": [
    "import pandas as pd\n",
    "import numpy as np\n",
    "import matplotlib.pyplot as plt\n",
    "import seaborn as sns"
   ]
  },
  {
   "cell_type": "markdown",
   "metadata": {},
   "source": [
    "# Data Wrangling"
   ]
  },
  {
   "cell_type": "code",
   "execution_count": 2,
   "metadata": {},
   "outputs": [
    {
     "name": "stdout",
     "output_type": "stream",
     "text": [
      "<class 'pandas.core.frame.DataFrame'>\n",
      "RangeIndex: 50000 entries, 0 to 49999\n",
      "Data columns (total 12 columns):\n",
      " #   Column                  Non-Null Count  Dtype  \n",
      "---  ------                  --------------  -----  \n",
      " 0   city                    50000 non-null  object \n",
      " 1   trips_in_first_30_days  50000 non-null  int64  \n",
      " 2   signup_date             50000 non-null  object \n",
      " 3   avg_rating_of_driver    41878 non-null  float64\n",
      " 4   avg_surge               50000 non-null  float64\n",
      " 5   last_trip_date          50000 non-null  object \n",
      " 6   phone                   49604 non-null  object \n",
      " 7   surge_pct               50000 non-null  float64\n",
      " 8   ultimate_black_user     50000 non-null  bool   \n",
      " 9   weekday_pct             50000 non-null  float64\n",
      " 10  avg_dist                50000 non-null  float64\n",
      " 11  avg_rating_by_driver    49799 non-null  float64\n",
      "dtypes: bool(1), float64(6), int64(1), object(4)\n",
      "memory usage: 4.2+ MB\n"
     ]
    }
   ],
   "source": [
    "ultimate = pd.read_json('ultimate_data_challenge.json')\n",
    "ultimate.info()"
   ]
  },
  {
   "cell_type": "code",
   "execution_count": 3,
   "metadata": {
    "scrolled": true
   },
   "outputs": [
    {
     "data": {
      "text/html": [
       "<div>\n",
       "<style scoped>\n",
       "    .dataframe tbody tr th:only-of-type {\n",
       "        vertical-align: middle;\n",
       "    }\n",
       "\n",
       "    .dataframe tbody tr th {\n",
       "        vertical-align: top;\n",
       "    }\n",
       "\n",
       "    .dataframe thead th {\n",
       "        text-align: right;\n",
       "    }\n",
       "</style>\n",
       "<table border=\"1\" class=\"dataframe\">\n",
       "  <thead>\n",
       "    <tr style=\"text-align: right;\">\n",
       "      <th></th>\n",
       "      <th>city</th>\n",
       "      <th>trips_in_first_30_days</th>\n",
       "      <th>signup_date</th>\n",
       "      <th>avg_rating_of_driver</th>\n",
       "      <th>avg_surge</th>\n",
       "      <th>last_trip_date</th>\n",
       "      <th>phone</th>\n",
       "      <th>surge_pct</th>\n",
       "      <th>ultimate_black_user</th>\n",
       "      <th>weekday_pct</th>\n",
       "      <th>avg_dist</th>\n",
       "      <th>avg_rating_by_driver</th>\n",
       "    </tr>\n",
       "  </thead>\n",
       "  <tbody>\n",
       "    <tr>\n",
       "      <th>0</th>\n",
       "      <td>King's Landing</td>\n",
       "      <td>4</td>\n",
       "      <td>2014-01-25</td>\n",
       "      <td>4.7</td>\n",
       "      <td>1.10</td>\n",
       "      <td>2014-06-17</td>\n",
       "      <td>iPhone</td>\n",
       "      <td>15.4</td>\n",
       "      <td>True</td>\n",
       "      <td>46.2</td>\n",
       "      <td>3.67</td>\n",
       "      <td>5.0</td>\n",
       "    </tr>\n",
       "    <tr>\n",
       "      <th>1</th>\n",
       "      <td>Astapor</td>\n",
       "      <td>0</td>\n",
       "      <td>2014-01-29</td>\n",
       "      <td>5.0</td>\n",
       "      <td>1.00</td>\n",
       "      <td>2014-05-05</td>\n",
       "      <td>Android</td>\n",
       "      <td>0.0</td>\n",
       "      <td>False</td>\n",
       "      <td>50.0</td>\n",
       "      <td>8.26</td>\n",
       "      <td>5.0</td>\n",
       "    </tr>\n",
       "    <tr>\n",
       "      <th>2</th>\n",
       "      <td>Astapor</td>\n",
       "      <td>3</td>\n",
       "      <td>2014-01-06</td>\n",
       "      <td>4.3</td>\n",
       "      <td>1.00</td>\n",
       "      <td>2014-01-07</td>\n",
       "      <td>iPhone</td>\n",
       "      <td>0.0</td>\n",
       "      <td>False</td>\n",
       "      <td>100.0</td>\n",
       "      <td>0.77</td>\n",
       "      <td>5.0</td>\n",
       "    </tr>\n",
       "    <tr>\n",
       "      <th>3</th>\n",
       "      <td>King's Landing</td>\n",
       "      <td>9</td>\n",
       "      <td>2014-01-10</td>\n",
       "      <td>4.6</td>\n",
       "      <td>1.14</td>\n",
       "      <td>2014-06-29</td>\n",
       "      <td>iPhone</td>\n",
       "      <td>20.0</td>\n",
       "      <td>True</td>\n",
       "      <td>80.0</td>\n",
       "      <td>2.36</td>\n",
       "      <td>4.9</td>\n",
       "    </tr>\n",
       "    <tr>\n",
       "      <th>4</th>\n",
       "      <td>Winterfell</td>\n",
       "      <td>14</td>\n",
       "      <td>2014-01-27</td>\n",
       "      <td>4.4</td>\n",
       "      <td>1.19</td>\n",
       "      <td>2014-03-15</td>\n",
       "      <td>Android</td>\n",
       "      <td>11.8</td>\n",
       "      <td>False</td>\n",
       "      <td>82.4</td>\n",
       "      <td>3.13</td>\n",
       "      <td>4.9</td>\n",
       "    </tr>\n",
       "  </tbody>\n",
       "</table>\n",
       "</div>"
      ],
      "text/plain": [
       "             city  trips_in_first_30_days signup_date  avg_rating_of_driver  \\\n",
       "0  King's Landing                       4  2014-01-25                   4.7   \n",
       "1         Astapor                       0  2014-01-29                   5.0   \n",
       "2         Astapor                       3  2014-01-06                   4.3   \n",
       "3  King's Landing                       9  2014-01-10                   4.6   \n",
       "4      Winterfell                      14  2014-01-27                   4.4   \n",
       "\n",
       "   avg_surge last_trip_date    phone  surge_pct  ultimate_black_user  \\\n",
       "0       1.10     2014-06-17   iPhone       15.4                 True   \n",
       "1       1.00     2014-05-05  Android        0.0                False   \n",
       "2       1.00     2014-01-07   iPhone        0.0                False   \n",
       "3       1.14     2014-06-29   iPhone       20.0                 True   \n",
       "4       1.19     2014-03-15  Android       11.8                False   \n",
       "\n",
       "   weekday_pct  avg_dist  avg_rating_by_driver  \n",
       "0         46.2      3.67                   5.0  \n",
       "1         50.0      8.26                   5.0  \n",
       "2        100.0      0.77                   5.0  \n",
       "3         80.0      2.36                   4.9  \n",
       "4         82.4      3.13                   4.9  "
      ]
     },
     "execution_count": 3,
     "metadata": {},
     "output_type": "execute_result"
    }
   ],
   "source": [
    "ultimate.head()"
   ]
  },
  {
   "cell_type": "markdown",
   "metadata": {},
   "source": [
    "Now that the database is loaded, I need to check the data to see what, if any, cleaning needs to be done.  I'll be looking for misspellings, mismatched data entry, and major outliers that may indicate data errors."
   ]
  },
  {
   "cell_type": "code",
   "execution_count": 4,
   "metadata": {},
   "outputs": [
    {
     "data": {
      "text/plain": [
       "array([ True, False])"
      ]
     },
     "execution_count": 4,
     "metadata": {},
     "output_type": "execute_result"
    }
   ],
   "source": [
    "ultimate['ultimate_black_user'].unique()"
   ]
  },
  {
   "cell_type": "code",
   "execution_count": 5,
   "metadata": {},
   "outputs": [],
   "source": [
    "#changing to 1s and 0s for later modelling...\n",
    "ultimate['ultimate_black_user'] = ultimate['ultimate_black_user'].astype(int)"
   ]
  },
  {
   "cell_type": "code",
   "execution_count": 6,
   "metadata": {},
   "outputs": [
    {
     "data": {
      "text/plain": [
       "array([\"King's Landing\", 'Astapor', 'Winterfell'], dtype=object)"
      ]
     },
     "execution_count": 6,
     "metadata": {},
     "output_type": "execute_result"
    }
   ],
   "source": [
    "ultimate.city.unique()"
   ]
  },
  {
   "cell_type": "code",
   "execution_count": 7,
   "metadata": {},
   "outputs": [
    {
     "data": {
      "text/plain": [
       "array(['iPhone', 'Android', None], dtype=object)"
      ]
     },
     "execution_count": 7,
     "metadata": {},
     "output_type": "execute_result"
    }
   ],
   "source": [
    "ultimate.phone.unique()"
   ]
  },
  {
   "cell_type": "code",
   "execution_count": 8,
   "metadata": {},
   "outputs": [
    {
     "name": "stdout",
     "output_type": "stream",
     "text": [
      "5.0\n",
      "1.0\n"
     ]
    }
   ],
   "source": [
    "print(ultimate.avg_rating_of_driver.max())\n",
    "print(ultimate.avg_rating_of_driver.min())"
   ]
  },
  {
   "cell_type": "code",
   "execution_count": 9,
   "metadata": {},
   "outputs": [
    {
     "name": "stdout",
     "output_type": "stream",
     "text": [
      "125\n",
      "0\n"
     ]
    }
   ],
   "source": [
    "print(ultimate.trips_in_first_30_days.max())\n",
    "print(ultimate.trips_in_first_30_days.min())"
   ]
  },
  {
   "cell_type": "code",
   "execution_count": 10,
   "metadata": {},
   "outputs": [
    {
     "name": "stdout",
     "output_type": "stream",
     "text": [
      "2014-07-01\n",
      "2014-01-01\n"
     ]
    }
   ],
   "source": [
    "print(ultimate.last_trip_date.max())\n",
    "print(ultimate.last_trip_date.min())"
   ]
  },
  {
   "cell_type": "markdown",
   "metadata": {},
   "source": [
    "Everything looks pretty good at first glance.  I know we have some NaN values, but i will keep them for now, and determine the best way to deal with them in pre-processing."
   ]
  },
  {
   "cell_type": "markdown",
   "metadata": {},
   "source": [
    "# Data Exploration"
   ]
  },
  {
   "cell_type": "markdown",
   "metadata": {},
   "source": [
    "What I'm going to do no next is create a new column in the dataframe indicating whether each rider is an active user or not.  I'll do this by determing which riders have taken trips in the last 30 days."
   ]
  },
  {
   "cell_type": "code",
   "execution_count": 11,
   "metadata": {},
   "outputs": [],
   "source": [
    "ultimate['active_user'] =  ultimate['last_trip_date'].apply(lambda x:1 if x > '2014-06-01' else 0)"
   ]
  },
  {
   "cell_type": "code",
   "execution_count": 12,
   "metadata": {},
   "outputs": [
    {
     "data": {
      "text/plain": [
       "0    0.6338\n",
       "1    0.3662\n",
       "Name: active_user, dtype: float64"
      ]
     },
     "execution_count": 12,
     "metadata": {},
     "output_type": "execute_result"
    }
   ],
   "source": [
    "ultimate['active_user'].value_counts(normalize=True)"
   ]
  },
  {
   "cell_type": "markdown",
   "metadata": {},
   "source": [
    "### 36.6 % of the riders that signed up in January are still active users."
   ]
  },
  {
   "cell_type": "code",
   "execution_count": 13,
   "metadata": {},
   "outputs": [
    {
     "data": {
      "text/html": [
       "<div>\n",
       "<style scoped>\n",
       "    .dataframe tbody tr th:only-of-type {\n",
       "        vertical-align: middle;\n",
       "    }\n",
       "\n",
       "    .dataframe tbody tr th {\n",
       "        vertical-align: top;\n",
       "    }\n",
       "\n",
       "    .dataframe thead th {\n",
       "        text-align: right;\n",
       "    }\n",
       "</style>\n",
       "<table border=\"1\" class=\"dataframe\">\n",
       "  <thead>\n",
       "    <tr style=\"text-align: right;\">\n",
       "      <th></th>\n",
       "      <th>city</th>\n",
       "      <th>trips_in_first_30_days</th>\n",
       "      <th>signup_date</th>\n",
       "      <th>avg_rating_of_driver</th>\n",
       "      <th>avg_surge</th>\n",
       "      <th>last_trip_date</th>\n",
       "      <th>phone</th>\n",
       "      <th>surge_pct</th>\n",
       "      <th>ultimate_black_user</th>\n",
       "      <th>weekday_pct</th>\n",
       "      <th>avg_dist</th>\n",
       "      <th>avg_rating_by_driver</th>\n",
       "      <th>active_user</th>\n",
       "    </tr>\n",
       "  </thead>\n",
       "  <tbody>\n",
       "    <tr>\n",
       "      <th>0</th>\n",
       "      <td>King's Landing</td>\n",
       "      <td>4</td>\n",
       "      <td>2014-01-25</td>\n",
       "      <td>4.7</td>\n",
       "      <td>1.10</td>\n",
       "      <td>2014-06-17</td>\n",
       "      <td>iPhone</td>\n",
       "      <td>15.4</td>\n",
       "      <td>1</td>\n",
       "      <td>46.2</td>\n",
       "      <td>3.67</td>\n",
       "      <td>5.0</td>\n",
       "      <td>1</td>\n",
       "    </tr>\n",
       "    <tr>\n",
       "      <th>1</th>\n",
       "      <td>Astapor</td>\n",
       "      <td>0</td>\n",
       "      <td>2014-01-29</td>\n",
       "      <td>5.0</td>\n",
       "      <td>1.00</td>\n",
       "      <td>2014-05-05</td>\n",
       "      <td>Android</td>\n",
       "      <td>0.0</td>\n",
       "      <td>0</td>\n",
       "      <td>50.0</td>\n",
       "      <td>8.26</td>\n",
       "      <td>5.0</td>\n",
       "      <td>0</td>\n",
       "    </tr>\n",
       "    <tr>\n",
       "      <th>2</th>\n",
       "      <td>Astapor</td>\n",
       "      <td>3</td>\n",
       "      <td>2014-01-06</td>\n",
       "      <td>4.3</td>\n",
       "      <td>1.00</td>\n",
       "      <td>2014-01-07</td>\n",
       "      <td>iPhone</td>\n",
       "      <td>0.0</td>\n",
       "      <td>0</td>\n",
       "      <td>100.0</td>\n",
       "      <td>0.77</td>\n",
       "      <td>5.0</td>\n",
       "      <td>0</td>\n",
       "    </tr>\n",
       "    <tr>\n",
       "      <th>3</th>\n",
       "      <td>King's Landing</td>\n",
       "      <td>9</td>\n",
       "      <td>2014-01-10</td>\n",
       "      <td>4.6</td>\n",
       "      <td>1.14</td>\n",
       "      <td>2014-06-29</td>\n",
       "      <td>iPhone</td>\n",
       "      <td>20.0</td>\n",
       "      <td>1</td>\n",
       "      <td>80.0</td>\n",
       "      <td>2.36</td>\n",
       "      <td>4.9</td>\n",
       "      <td>1</td>\n",
       "    </tr>\n",
       "    <tr>\n",
       "      <th>4</th>\n",
       "      <td>Winterfell</td>\n",
       "      <td>14</td>\n",
       "      <td>2014-01-27</td>\n",
       "      <td>4.4</td>\n",
       "      <td>1.19</td>\n",
       "      <td>2014-03-15</td>\n",
       "      <td>Android</td>\n",
       "      <td>11.8</td>\n",
       "      <td>0</td>\n",
       "      <td>82.4</td>\n",
       "      <td>3.13</td>\n",
       "      <td>4.9</td>\n",
       "      <td>0</td>\n",
       "    </tr>\n",
       "  </tbody>\n",
       "</table>\n",
       "</div>"
      ],
      "text/plain": [
       "             city  trips_in_first_30_days signup_date  avg_rating_of_driver  \\\n",
       "0  King's Landing                       4  2014-01-25                   4.7   \n",
       "1         Astapor                       0  2014-01-29                   5.0   \n",
       "2         Astapor                       3  2014-01-06                   4.3   \n",
       "3  King's Landing                       9  2014-01-10                   4.6   \n",
       "4      Winterfell                      14  2014-01-27                   4.4   \n",
       "\n",
       "   avg_surge last_trip_date    phone  surge_pct  ultimate_black_user  \\\n",
       "0       1.10     2014-06-17   iPhone       15.4                    1   \n",
       "1       1.00     2014-05-05  Android        0.0                    0   \n",
       "2       1.00     2014-01-07   iPhone        0.0                    0   \n",
       "3       1.14     2014-06-29   iPhone       20.0                    1   \n",
       "4       1.19     2014-03-15  Android       11.8                    0   \n",
       "\n",
       "   weekday_pct  avg_dist  avg_rating_by_driver  active_user  \n",
       "0         46.2      3.67                   5.0            1  \n",
       "1         50.0      8.26                   5.0            0  \n",
       "2        100.0      0.77                   5.0            0  \n",
       "3         80.0      2.36                   4.9            1  \n",
       "4         82.4      3.13                   4.9            0  "
      ]
     },
     "execution_count": 13,
     "metadata": {},
     "output_type": "execute_result"
    }
   ],
   "source": [
    "ultimate.head()\n"
   ]
  },
  {
   "cell_type": "code",
   "execution_count": 14,
   "metadata": {
    "scrolled": true
   },
   "outputs": [
    {
     "data": {
      "image/png": "[encoded data removed]",
      "text/plain": [
       "<Figure size 432x288 with 1 Axes>"
      ]
     },
     "metadata": {
      "needs_background": "light"
     },
     "output_type": "display_data"
    },
    {
     "data": {
      "image/png": "[encoded data removed]",
      "text/plain": [
       "<Figure size 432x288 with 1 Axes>"
      ]
     },
     "metadata": {
      "needs_background": "light"
     },
     "output_type": "display_data"
    }
   ],
   "source": [
    "sns.histplot(data = ultimate, x = 'city', hue = 'city')\n",
    "plt.title('Users by City')\n",
    "plt.show()\n",
    "\n",
    "sns.barplot(data = ultimate, x = 'city', y = 'active_user')\n",
    "plt.title('% of Users in each city that are still active')\n",
    "plt.show()"
   ]
  },
  {
   "cell_type": "markdown",
   "metadata": {},
   "source": [
    "Although King's Landing accounted for only about 20% of our initial sign-ups, the retention rate was much better there than in the other 2 cities."
   ]
  },
  {
   "cell_type": "code",
   "execution_count": 15,
   "metadata": {
    "scrolled": false
   },
   "outputs": [
    {
     "data": {
      "image/png": "[encoded data removed]",
      "text/plain": [
       "<Figure size 432x288 with 1 Axes>"
      ]
     },
     "metadata": {
      "needs_background": "light"
     },
     "output_type": "display_data"
    },
    {
     "data": {
      "text/plain": [
       "iPhone     0.697162\n",
       "Android    0.302838\n",
       "Name: phone, dtype: float64"
      ]
     },
     "execution_count": 15,
     "metadata": {},
     "output_type": "execute_result"
    }
   ],
   "source": [
    "sns.countplot(data = ultimate, x='phone', hue='active_user')\n",
    "plt.title('# of active and inactive_users by phone type')\n",
    "plt.show()\n",
    "\n",
    "ultimate.phone.value_counts(normalize=True)\n",
    "\n"
   ]
  },
  {
   "cell_type": "markdown",
   "metadata": {},
   "source": [
    "Close to 70% of the overall sign-ups were iPhone users, and the retention rate is far higher among iPhone users than among Android users."
   ]
  },
  {
   "cell_type": "code",
   "execution_count": 16,
   "metadata": {
    "scrolled": true
   },
   "outputs": [
    {
     "data": {
      "image/png": "[encoded data removed]",
      "text/plain": [
       "<Figure size 432x288 with 1 Axes>"
      ]
     },
     "metadata": {
      "needs_background": "light"
     },
     "output_type": "display_data"
    }
   ],
   "source": [
    "sns.countplot(data = ultimate, x='ultimate_black_user', hue='active_user')\n",
    "plt.title('# of active and inactive_users by phone type')\n",
    "plt.show()\n",
    "\n",
    "#pd.crosstab https://pandas.pydata.org/docs/reference/api/pandas.crosstab.html\n"
   ]
  },
  {
   "cell_type": "markdown",
   "metadata": {},
   "source": [
    "The \"Ultimate Black\" users were much more likely to still be active after 6 months."
   ]
  },
  {
   "cell_type": "code",
   "execution_count": 17,
   "metadata": {
    "scrolled": true
   },
   "outputs": [
    {
     "data": {
      "text/plain": [
       "active_user\n",
       "0    1.659167\n",
       "1    3.349590\n",
       "Name: trips_in_first_30_days, dtype: float64"
      ]
     },
     "execution_count": 17,
     "metadata": {},
     "output_type": "execute_result"
    }
   ],
   "source": [
    "# ultimate['trips_in_first_30_days'].groupby(ultimate['active_user']).agg('mean')\n",
    "ultimate.groupby(ultimate['active_user'])['trips_in_first_30_days'].mean()"
   ]
  },
  {
   "cell_type": "markdown",
   "metadata": {},
   "source": [
    "Those who took more trips in the first 30 days were definitely more likely to stay active users."
   ]
  },
  {
   "cell_type": "code",
   "execution_count": 18,
   "metadata": {},
   "outputs": [
    {
     "data": {
      "image/png": "[encoded data removed]",
      "text/plain": [
       "<Figure size 432x288 with 1 Axes>"
      ]
     },
     "metadata": {
      "needs_background": "light"
     },
     "output_type": "display_data"
    },
    {
     "data": {
      "image/png": "[encoded data removed]",
      "text/plain": [
       "<Figure size 432x288 with 1 Axes>"
      ]
     },
     "metadata": {
      "needs_background": "light"
     },
     "output_type": "display_data"
    },
    {
     "data": {
      "text/plain": [
       "active_user\n",
       "0    60.181597\n",
       "1    62.214604\n",
       "Name: weekday_pct, dtype: float64"
      ]
     },
     "execution_count": 18,
     "metadata": {},
     "output_type": "execute_result"
    }
   ],
   "source": [
    "active_user = ultimate[ultimate.active_user == 1]\n",
    "inactive_user = ultimate[ultimate.active_user == 0]\n",
    "\n",
    "sns.histplot(x = 'weekday_pct', data = active_user, bins=20)\n",
    "plt.title('Distribution of Weekday percentages of active users')\n",
    "plt.show()\n",
    "\n",
    "sns.histplot(x = 'weekday_pct', data = inactive_user, bins=20)\n",
    "plt.title('Distribution of Weekday percentages of inactive users')\n",
    "plt.show()\n",
    "\n",
    "ultimate['weekday_pct'].groupby(ultimate['active_user']).agg('mean')\n",
    "\n",
    "#plot avg dist for active/inactive\n",
    "#plot avg rating for active/inactive"
   ]
  },
  {
   "cell_type": "markdown",
   "metadata": {},
   "source": [
    "The average weekday percentage use between inactive and active users is very similar, however, there tend to be a higher percentage of active users that ride on both the weekend and weekday.  Among inactive users, most people ride exclusively on either weekends or weekdays."
   ]
  },
  {
   "cell_type": "code",
   "execution_count": 19,
   "metadata": {
    "scrolled": true
   },
   "outputs": [
    {
     "data": {
      "image/png": "[encoded data removed]",
      "text/plain": [
       "<Figure size 432x288 with 1 Axes>"
      ]
     },
     "metadata": {
      "needs_background": "light"
     },
     "output_type": "display_data"
    },
    {
     "data": {
      "image/png": "[encoded data removed]",
      "text/plain": [
       "<Figure size 432x288 with 1 Axes>"
      ]
     },
     "metadata": {
      "needs_background": "light"
     },
     "output_type": "display_data"
    },
    {
     "data": {
      "text/plain": [
       "active_user\n",
       "0    6.188478\n",
       "1    5.118977\n",
       "Name: avg_dist, dtype: float64"
      ]
     },
     "execution_count": 19,
     "metadata": {},
     "output_type": "execute_result"
    }
   ],
   "source": [
    "sns.histplot(x = 'avg_dist', data = active_user, bins=20)\n",
    "plt.title('Distribution of Weekday percentages of active users')\n",
    "plt.show()\n",
    "\n",
    "sns.histplot(x = 'avg_dist', data = inactive_user, bins=20)\n",
    "plt.title('Distribution of Weekday percentages of inactive users')\n",
    "plt.show()\n",
    "\n",
    "ultimate['avg_dist'].groupby(ultimate['active_user']).agg('mean')"
   ]
  },
  {
   "cell_type": "markdown",
   "metadata": {},
   "source": [
    "The average distance of each trip is 1 mile less than for active users as opposed to inactive users."
   ]
  },
  {
   "cell_type": "code",
   "execution_count": 20,
   "metadata": {
    "scrolled": true
   },
   "outputs": [
    {
     "data": {
      "image/png": "[encoded data removed]",
      "text/plain": [
       "<Figure size 432x288 with 1 Axes>"
      ]
     },
     "metadata": {
      "needs_background": "light"
     },
     "output_type": "display_data"
    },
    {
     "data": {
      "image/png": "[encoded data removed]",
      "text/plain": [
       "<Figure size 432x288 with 1 Axes>"
      ]
     },
     "metadata": {
      "needs_background": "light"
     },
     "output_type": "display_data"
    },
    {
     "data": {
      "text/plain": [
       "active_user\n",
       "0    4.607018\n",
       "1    4.593364\n",
       "Name: avg_rating_of_driver, dtype: float64"
      ]
     },
     "execution_count": 20,
     "metadata": {},
     "output_type": "execute_result"
    }
   ],
   "source": [
    "sns.histplot(x = 'avg_rating_of_driver', data = active_user, bins=20)\n",
    "plt.title('Distribution of Weekday percentages of active users')\n",
    "plt.show()\n",
    "\n",
    "sns.histplot(x = 'avg_rating_of_driver', data = inactive_user, bins=20)\n",
    "plt.title('Distribution of Weekday percentages of inactive users')\n",
    "plt.show()\n",
    "\n",
    "ultimate['avg_rating_of_driver'].groupby(ultimate['active_user']).agg('mean')"
   ]
  },
  {
   "cell_type": "markdown",
   "metadata": {},
   "source": [
    "The average driver rating of users appears pretty much the same between inactive and active users. This likely tells us that bad driver experiences are not a primary cause of retention failures."
   ]
  },
  {
   "cell_type": "markdown",
   "metadata": {},
   "source": [
    "# Pre-Processing"
   ]
  },
  {
   "cell_type": "markdown",
   "metadata": {},
   "source": [
    "Now it's time for some pre-processing prior to modelling. First, I need to figure what to do with our NaN values. "
   ]
  },
  {
   "cell_type": "code",
   "execution_count": 21,
   "metadata": {
    "scrolled": false
   },
   "outputs": [
    {
     "data": {
      "image/png": "[encoded data removed]",
      "text/plain": [
       "<Figure size 432x288 with 1 Axes>"
      ]
     },
     "metadata": {
      "needs_background": "light"
     },
     "output_type": "display_data"
    }
   ],
   "source": [
    "sns.countplot(data = ultimate, x='city', hue='phone')\n",
    "plt.show()"
   ]
  },
  {
   "cell_type": "markdown",
   "metadata": {},
   "source": [
    "No matter where a person lives, they are more likely to have the iPhone.  I think the best way to impute missing data is to fill the small % of NaNs we have with iPhone."
   ]
  },
  {
   "cell_type": "code",
   "execution_count": 22,
   "metadata": {
    "scrolled": true
   },
   "outputs": [],
   "source": [
    "ultimate.phone.fillna('iPhone', inplace=True)"
   ]
  },
  {
   "cell_type": "markdown",
   "metadata": {},
   "source": [
    "We also have some NaN in 2 our driver rating and user rating columns. I don't want to lose the information in those rows, and I think the best way to handle the NaN in this case would be to impute the means of the columns for each. "
   ]
  },
  {
   "cell_type": "code",
   "execution_count": 23,
   "metadata": {},
   "outputs": [
    {
     "name": "stdout",
     "output_type": "stream",
     "text": [
      "<class 'pandas.core.frame.DataFrame'>\n",
      "RangeIndex: 50000 entries, 0 to 49999\n",
      "Data columns (total 13 columns):\n",
      " #   Column                  Non-Null Count  Dtype  \n",
      "---  ------                  --------------  -----  \n",
      " 0   city                    50000 non-null  object \n",
      " 1   trips_in_first_30_days  50000 non-null  int64  \n",
      " 2   signup_date             50000 non-null  object \n",
      " 3   avg_rating_of_driver    50000 non-null  float64\n",
      " 4   avg_surge               50000 non-null  float64\n",
      " 5   last_trip_date          50000 non-null  object \n",
      " 6   phone                   50000 non-null  object \n",
      " 7   surge_pct               50000 non-null  float64\n",
      " 8   ultimate_black_user     50000 non-null  int32  \n",
      " 9   weekday_pct             50000 non-null  float64\n",
      " 10  avg_dist                50000 non-null  float64\n",
      " 11  avg_rating_by_driver    50000 non-null  float64\n",
      " 12  active_user             50000 non-null  int64  \n",
      "dtypes: float64(6), int32(1), int64(2), object(4)\n",
      "memory usage: 4.8+ MB\n"
     ]
    }
   ],
   "source": [
    "ultimate.avg_rating_of_driver.fillna(ultimate.avg_rating_of_driver.mean(), inplace=True)\n",
    "ultimate.avg_rating_by_driver.fillna(ultimate.avg_rating_by_driver.mean(), inplace=True)\n",
    "ultimate.info()\n"
   ]
  },
  {
   "cell_type": "code",
   "execution_count": 24,
   "metadata": {},
   "outputs": [],
   "source": [
    "dummies = pd.get_dummies(ultimate[['city', 'phone']], drop_first=True)\n",
    "\n"
   ]
  },
  {
   "cell_type": "code",
   "execution_count": 25,
   "metadata": {},
   "outputs": [
    {
     "name": "stdout",
     "output_type": "stream",
     "text": [
      "<class 'pandas.core.frame.DataFrame'>\n",
      "RangeIndex: 50000 entries, 0 to 49999\n",
      "Data columns (total 9 columns):\n",
      " #   Column                  Non-Null Count  Dtype  \n",
      "---  ------                  --------------  -----  \n",
      " 0   trips_in_first_30_days  50000 non-null  int64  \n",
      " 1   avg_rating_of_driver    50000 non-null  float64\n",
      " 2   avg_surge               50000 non-null  float64\n",
      " 3   surge_pct               50000 non-null  float64\n",
      " 4   ultimate_black_user     50000 non-null  int32  \n",
      " 5   weekday_pct             50000 non-null  float64\n",
      " 6   avg_dist                50000 non-null  float64\n",
      " 7   avg_rating_by_driver    50000 non-null  float64\n",
      " 8   active_user             50000 non-null  int64  \n",
      "dtypes: float64(6), int32(1), int64(2)\n",
      "memory usage: 3.2 MB\n"
     ]
    }
   ],
   "source": [
    "ultimate = ultimate.drop(columns = ['city', 'phone', 'signup_date', 'last_trip_date'] )\n",
    "ultimate.info()\n"
   ]
  },
  {
   "cell_type": "code",
   "execution_count": 26,
   "metadata": {
    "scrolled": false
   },
   "outputs": [
    {
     "name": "stdout",
     "output_type": "stream",
     "text": [
      "<class 'pandas.core.frame.DataFrame'>\n",
      "RangeIndex: 50000 entries, 0 to 49999\n",
      "Data columns (total 3 columns):\n",
      " #   Column               Non-Null Count  Dtype\n",
      "---  ------               --------------  -----\n",
      " 0   city_King's Landing  50000 non-null  uint8\n",
      " 1   city_Winterfell      50000 non-null  uint8\n",
      " 2   phone_iPhone         50000 non-null  uint8\n",
      "dtypes: uint8(3)\n",
      "memory usage: 146.6 KB\n"
     ]
    }
   ],
   "source": [
    "dummies.info()"
   ]
  },
  {
   "cell_type": "code",
   "execution_count": 27,
   "metadata": {
    "scrolled": true
   },
   "outputs": [
    {
     "name": "stdout",
     "output_type": "stream",
     "text": [
      "<class 'pandas.core.frame.DataFrame'>\n",
      "RangeIndex: 50000 entries, 0 to 49999\n",
      "Data columns (total 12 columns):\n",
      " #   Column                  Non-Null Count  Dtype  \n",
      "---  ------                  --------------  -----  \n",
      " 0   trips_in_first_30_days  50000 non-null  int64  \n",
      " 1   avg_rating_of_driver    50000 non-null  float64\n",
      " 2   avg_surge               50000 non-null  float64\n",
      " 3   surge_pct               50000 non-null  float64\n",
      " 4   ultimate_black_user     50000 non-null  int32  \n",
      " 5   weekday_pct             50000 non-null  float64\n",
      " 6   avg_dist                50000 non-null  float64\n",
      " 7   avg_rating_by_driver    50000 non-null  float64\n",
      " 8   active_user             50000 non-null  int64  \n",
      " 9   city_King's Landing     50000 non-null  uint8  \n",
      " 10  city_Winterfell         50000 non-null  uint8  \n",
      " 11  phone_iPhone            50000 non-null  uint8  \n",
      "dtypes: float64(6), int32(1), int64(2), uint8(3)\n",
      "memory usage: 3.4 MB\n"
     ]
    }
   ],
   "source": [
    "df = pd.concat([ultimate, dummies], axis = 1)\n",
    "df.info()"
   ]
  },
  {
   "cell_type": "markdown",
   "metadata": {},
   "source": [
    "Before splitting my data for modeling, I'm going to normalize the data.  This may help a couple of our machine learning algorythms work better."
   ]
  },
  {
   "cell_type": "code",
   "execution_count": 28,
   "metadata": {},
   "outputs": [
    {
     "data": {
      "text/html": [
       "<div>\n",
       "<style scoped>\n",
       "    .dataframe tbody tr th:only-of-type {\n",
       "        vertical-align: middle;\n",
       "    }\n",
       "\n",
       "    .dataframe tbody tr th {\n",
       "        vertical-align: top;\n",
       "    }\n",
       "\n",
       "    .dataframe thead th {\n",
       "        text-align: right;\n",
       "    }\n",
       "</style>\n",
       "<table border=\"1\" class=\"dataframe\">\n",
       "  <thead>\n",
       "    <tr style=\"text-align: right;\">\n",
       "      <th></th>\n",
       "      <th>trips_in_first_30_days</th>\n",
       "      <th>avg_rating_of_driver</th>\n",
       "      <th>avg_surge</th>\n",
       "      <th>surge_pct</th>\n",
       "      <th>ultimate_black_user</th>\n",
       "      <th>weekday_pct</th>\n",
       "      <th>avg_dist</th>\n",
       "      <th>avg_rating_by_driver</th>\n",
       "      <th>active_user</th>\n",
       "      <th>city_King's Landing</th>\n",
       "      <th>city_Winterfell</th>\n",
       "      <th>phone_iPhone</th>\n",
       "    </tr>\n",
       "  </thead>\n",
       "  <tbody>\n",
       "    <tr>\n",
       "      <th>trips_in_first_30_days</th>\n",
       "      <td>1.000000</td>\n",
       "      <td>-0.011060</td>\n",
       "      <td>-0.001841</td>\n",
       "      <td>0.005720</td>\n",
       "      <td>0.112210</td>\n",
       "      <td>0.050388</td>\n",
       "      <td>-0.136329</td>\n",
       "      <td>-0.039097</td>\n",
       "      <td>0.214728</td>\n",
       "      <td>0.024650</td>\n",
       "      <td>0.037735</td>\n",
       "      <td>0.059309</td>\n",
       "    </tr>\n",
       "    <tr>\n",
       "      <th>avg_rating_of_driver</th>\n",
       "      <td>-0.011060</td>\n",
       "      <td>1.000000</td>\n",
       "      <td>-0.021653</td>\n",
       "      <td>-0.003290</td>\n",
       "      <td>-0.001916</td>\n",
       "      <td>0.012587</td>\n",
       "      <td>0.028508</td>\n",
       "      <td>0.101660</td>\n",
       "      <td>-0.010082</td>\n",
       "      <td>0.082156</td>\n",
       "      <td>-0.094304</td>\n",
       "      <td>-0.024206</td>\n",
       "    </tr>\n",
       "    <tr>\n",
       "      <th>avg_surge</th>\n",
       "      <td>-0.001841</td>\n",
       "      <td>-0.021653</td>\n",
       "      <td>1.000000</td>\n",
       "      <td>0.793582</td>\n",
       "      <td>-0.078791</td>\n",
       "      <td>-0.110071</td>\n",
       "      <td>-0.081491</td>\n",
       "      <td>0.010498</td>\n",
       "      <td>-0.003567</td>\n",
       "      <td>-0.009198</td>\n",
       "      <td>-0.027643</td>\n",
       "      <td>0.008977</td>\n",
       "    </tr>\n",
       "    <tr>\n",
       "      <th>surge_pct</th>\n",
       "      <td>0.005720</td>\n",
       "      <td>-0.003290</td>\n",
       "      <td>0.793582</td>\n",
       "      <td>1.000000</td>\n",
       "      <td>-0.106861</td>\n",
       "      <td>-0.144918</td>\n",
       "      <td>-0.104414</td>\n",
       "      <td>0.019964</td>\n",
       "      <td>0.010612</td>\n",
       "      <td>0.028221</td>\n",
       "      <td>-0.065603</td>\n",
       "      <td>0.010150</td>\n",
       "    </tr>\n",
       "    <tr>\n",
       "      <th>ultimate_black_user</th>\n",
       "      <td>0.112210</td>\n",
       "      <td>-0.001916</td>\n",
       "      <td>-0.078791</td>\n",
       "      <td>-0.106861</td>\n",
       "      <td>1.000000</td>\n",
       "      <td>0.035998</td>\n",
       "      <td>0.032310</td>\n",
       "      <td>0.009328</td>\n",
       "      <td>0.210259</td>\n",
       "      <td>0.039649</td>\n",
       "      <td>-0.051990</td>\n",
       "      <td>0.075836</td>\n",
       "    </tr>\n",
       "    <tr>\n",
       "      <th>weekday_pct</th>\n",
       "      <td>0.050388</td>\n",
       "      <td>0.012587</td>\n",
       "      <td>-0.110071</td>\n",
       "      <td>-0.144918</td>\n",
       "      <td>0.035998</td>\n",
       "      <td>1.000000</td>\n",
       "      <td>0.101652</td>\n",
       "      <td>0.020366</td>\n",
       "      <td>0.026413</td>\n",
       "      <td>0.031349</td>\n",
       "      <td>-0.015318</td>\n",
       "      <td>0.009241</td>\n",
       "    </tr>\n",
       "    <tr>\n",
       "      <th>avg_dist</th>\n",
       "      <td>-0.136329</td>\n",
       "      <td>0.028508</td>\n",
       "      <td>-0.081491</td>\n",
       "      <td>-0.104414</td>\n",
       "      <td>0.032310</td>\n",
       "      <td>0.101652</td>\n",
       "      <td>1.000000</td>\n",
       "      <td>0.079793</td>\n",
       "      <td>-0.090279</td>\n",
       "      <td>0.015877</td>\n",
       "      <td>0.030050</td>\n",
       "      <td>-0.020888</td>\n",
       "    </tr>\n",
       "    <tr>\n",
       "      <th>avg_rating_by_driver</th>\n",
       "      <td>-0.039097</td>\n",
       "      <td>0.101660</td>\n",
       "      <td>0.010498</td>\n",
       "      <td>0.019964</td>\n",
       "      <td>0.009328</td>\n",
       "      <td>0.020366</td>\n",
       "      <td>0.079793</td>\n",
       "      <td>1.000000</td>\n",
       "      <td>-0.025595</td>\n",
       "      <td>0.084480</td>\n",
       "      <td>-0.098727</td>\n",
       "      <td>-0.008765</td>\n",
       "    </tr>\n",
       "    <tr>\n",
       "      <th>active_user</th>\n",
       "      <td>0.214728</td>\n",
       "      <td>-0.010082</td>\n",
       "      <td>-0.003567</td>\n",
       "      <td>0.010612</td>\n",
       "      <td>0.210259</td>\n",
       "      <td>0.026413</td>\n",
       "      <td>-0.090279</td>\n",
       "      <td>-0.025595</td>\n",
       "      <td>1.000000</td>\n",
       "      <td>0.268272</td>\n",
       "      <td>-0.046985</td>\n",
       "      <td>0.231731</td>\n",
       "    </tr>\n",
       "    <tr>\n",
       "      <th>city_King's Landing</th>\n",
       "      <td>0.024650</td>\n",
       "      <td>0.082156</td>\n",
       "      <td>-0.009198</td>\n",
       "      <td>0.028221</td>\n",
       "      <td>0.039649</td>\n",
       "      <td>0.031349</td>\n",
       "      <td>0.015877</td>\n",
       "      <td>0.084480</td>\n",
       "      <td>0.268272</td>\n",
       "      <td>1.000000</td>\n",
       "      <td>-0.471555</td>\n",
       "      <td>0.059203</td>\n",
       "    </tr>\n",
       "    <tr>\n",
       "      <th>city_Winterfell</th>\n",
       "      <td>0.037735</td>\n",
       "      <td>-0.094304</td>\n",
       "      <td>-0.027643</td>\n",
       "      <td>-0.065603</td>\n",
       "      <td>-0.051990</td>\n",
       "      <td>-0.015318</td>\n",
       "      <td>0.030050</td>\n",
       "      <td>-0.098727</td>\n",
       "      <td>-0.046985</td>\n",
       "      <td>-0.471555</td>\n",
       "      <td>1.000000</td>\n",
       "      <td>-0.023517</td>\n",
       "    </tr>\n",
       "    <tr>\n",
       "      <th>phone_iPhone</th>\n",
       "      <td>0.059309</td>\n",
       "      <td>-0.024206</td>\n",
       "      <td>0.008977</td>\n",
       "      <td>0.010150</td>\n",
       "      <td>0.075836</td>\n",
       "      <td>0.009241</td>\n",
       "      <td>-0.020888</td>\n",
       "      <td>-0.008765</td>\n",
       "      <td>0.231731</td>\n",
       "      <td>0.059203</td>\n",
       "      <td>-0.023517</td>\n",
       "      <td>1.000000</td>\n",
       "    </tr>\n",
       "  </tbody>\n",
       "</table>\n",
       "</div>"
      ],
      "text/plain": [
       "                        trips_in_first_30_days  avg_rating_of_driver  \\\n",
       "trips_in_first_30_days                1.000000             -0.011060   \n",
       "avg_rating_of_driver                 -0.011060              1.000000   \n",
       "avg_surge                            -0.001841             -0.021653   \n",
       "surge_pct                             0.005720             -0.003290   \n",
       "ultimate_black_user                   0.112210             -0.001916   \n",
       "weekday_pct                           0.050388              0.012587   \n",
       "avg_dist                             -0.136329              0.028508   \n",
       "avg_rating_by_driver                 -0.039097              0.101660   \n",
       "active_user                           0.214728             -0.010082   \n",
       "city_King's Landing                   0.024650              0.082156   \n",
       "city_Winterfell                       0.037735             -0.094304   \n",
       "phone_iPhone                          0.059309             -0.024206   \n",
       "\n",
       "                        avg_surge  surge_pct  ultimate_black_user  \\\n",
       "trips_in_first_30_days  -0.001841   0.005720             0.112210   \n",
       "avg_rating_of_driver    -0.021653  -0.003290            -0.001916   \n",
       "avg_surge                1.000000   0.793582            -0.078791   \n",
       "surge_pct                0.793582   1.000000            -0.106861   \n",
       "ultimate_black_user     -0.078791  -0.106861             1.000000   \n",
       "weekday_pct             -0.110071  -0.144918             0.035998   \n",
       "avg_dist                -0.081491  -0.104414             0.032310   \n",
       "avg_rating_by_driver     0.010498   0.019964             0.009328   \n",
       "active_user             -0.003567   0.010612             0.210259   \n",
       "city_King's Landing     -0.009198   0.028221             0.039649   \n",
       "city_Winterfell         -0.027643  -0.065603            -0.051990   \n",
       "phone_iPhone             0.008977   0.010150             0.075836   \n",
       "\n",
       "                        weekday_pct  avg_dist  avg_rating_by_driver  \\\n",
       "trips_in_first_30_days     0.050388 -0.136329             -0.039097   \n",
       "avg_rating_of_driver       0.012587  0.028508              0.101660   \n",
       "avg_surge                 -0.110071 -0.081491              0.010498   \n",
       "surge_pct                 -0.144918 -0.104414              0.019964   \n",
       "ultimate_black_user        0.035998  0.032310              0.009328   \n",
       "weekday_pct                1.000000  0.101652              0.020366   \n",
       "avg_dist                   0.101652  1.000000              0.079793   \n",
       "avg_rating_by_driver       0.020366  0.079793              1.000000   \n",
       "active_user                0.026413 -0.090279             -0.025595   \n",
       "city_King's Landing        0.031349  0.015877              0.084480   \n",
       "city_Winterfell           -0.015318  0.030050             -0.098727   \n",
       "phone_iPhone               0.009241 -0.020888             -0.008765   \n",
       "\n",
       "                        active_user  city_King's Landing  city_Winterfell  \\\n",
       "trips_in_first_30_days     0.214728             0.024650         0.037735   \n",
       "avg_rating_of_driver      -0.010082             0.082156        -0.094304   \n",
       "avg_surge                 -0.003567            -0.009198        -0.027643   \n",
       "surge_pct                  0.010612             0.028221        -0.065603   \n",
       "ultimate_black_user        0.210259             0.039649        -0.051990   \n",
       "weekday_pct                0.026413             0.031349        -0.015318   \n",
       "avg_dist                  -0.090279             0.015877         0.030050   \n",
       "avg_rating_by_driver      -0.025595             0.084480        -0.098727   \n",
       "active_user                1.000000             0.268272        -0.046985   \n",
       "city_King's Landing        0.268272             1.000000        -0.471555   \n",
       "city_Winterfell           -0.046985            -0.471555         1.000000   \n",
       "phone_iPhone               0.231731             0.059203        -0.023517   \n",
       "\n",
       "                        phone_iPhone  \n",
       "trips_in_first_30_days      0.059309  \n",
       "avg_rating_of_driver       -0.024206  \n",
       "avg_surge                   0.008977  \n",
       "surge_pct                   0.010150  \n",
       "ultimate_black_user         0.075836  \n",
       "weekday_pct                 0.009241  \n",
       "avg_dist                   -0.020888  \n",
       "avg_rating_by_driver       -0.008765  \n",
       "active_user                 0.231731  \n",
       "city_King's Landing         0.059203  \n",
       "city_Winterfell            -0.023517  \n",
       "phone_iPhone                1.000000  "
      ]
     },
     "execution_count": 28,
     "metadata": {},
     "output_type": "execute_result"
    }
   ],
   "source": [
    "from sklearn.preprocessing import MinMaxScaler\n",
    "\n",
    "scaler = MinMaxScaler()\n",
    "df_scaled = pd.DataFrame(scaler.fit_transform(df))\n",
    "df_scaled.columns = df.columns\n",
    "\n",
    "df_scaled.corr()\n",
    "\n",
    "# Train,test, split\n",
    "# apply my models\n",
    "# score em"
   ]
  },
  {
   "cell_type": "markdown",
   "metadata": {},
   "source": [
    "It looks like the most strongly correlated variables to whether a person is an active user or not are living in King's Landing, having an i-phone, being an 'ultimate black' user, and taking a higher than average # of trips in the first 30 days."
   ]
  },
  {
   "cell_type": "markdown",
   "metadata": {},
   "source": [
    "# Modeling"
   ]
  },
  {
   "cell_type": "code",
   "execution_count": 29,
   "metadata": {},
   "outputs": [],
   "source": [
    "from sklearn.model_selection import train_test_split\n",
    "from sklearn.tree import DecisionTreeClassifier\n",
    "from sklearn.ensemble import RandomForestClassifier\n",
    "from sklearn.neighbors import KNeighborsClassifier\n",
    "from sklearn.linear_model import LogisticRegression\n",
    "from sklearn.svm import SVC\n",
    "from sklearn.metrics import accuracy_score, classification_report, confusion_matrix, f1_score, precision_score, recall_score\n"
   ]
  },
  {
   "cell_type": "code",
   "execution_count": 30,
   "metadata": {},
   "outputs": [],
   "source": [
    "X = df_scaled.drop(columns = 'active_user')\n",
    "y = df_scaled['active_user']\n",
    "\n",
    "X_train, X_test, y_train, y_test = train_test_split(X, y, test_size = 0.2, random_state=42)"
   ]
  },
  {
   "cell_type": "markdown",
   "metadata": {},
   "source": [
    "## Random Forest"
   ]
  },
  {
   "cell_type": "code",
   "execution_count": 31,
   "metadata": {
    "scrolled": true
   },
   "outputs": [
    {
     "name": "stdout",
     "output_type": "stream",
     "text": [
      "F1 Score: 0.671\n",
      "Accuracy Score: 0.761\n",
      "Precision Score: 0.68\n",
      "Recall Score: 0.662\n"
     ]
    },
    {
     "data": {
      "text/plain": [
       "array([[5179, 1143],\n",
       "       [1245, 2433]], dtype=int64)"
      ]
     },
     "execution_count": 31,
     "metadata": {},
     "output_type": "execute_result"
    }
   ],
   "source": [
    "model = RandomForestClassifier()\n",
    "model.fit(X_train, y_train)\n",
    "y_pred = model.predict(X_test)\n",
    "\n",
    "print('F1 Score:', round(f1_score(y_test, y_pred), 3))\n",
    "print('Accuracy Score:', round(accuracy_score(y_test, y_pred), 3))\n",
    "print('Precision Score:', round(precision_score(y_test, y_pred), 3))\n",
    "print('Recall Score:', round(recall_score(y_test, y_pred), 3))\n",
    "\n",
    "confusion_matrix(y_test, y_pred)"
   ]
  },
  {
   "cell_type": "markdown",
   "metadata": {},
   "source": [
    "## Decision Tree"
   ]
  },
  {
   "cell_type": "code",
   "execution_count": 32,
   "metadata": {
    "scrolled": true
   },
   "outputs": [
    {
     "name": "stdout",
     "output_type": "stream",
     "text": [
      "F1 Score: 0.595\n",
      "Accuracy Score: 0.706\n",
      "Precision Score: 0.602\n",
      "Recall Score: 0.589\n"
     ]
    },
    {
     "data": {
      "text/plain": [
       "array([[4889, 1433],\n",
       "       [1511, 2167]], dtype=int64)"
      ]
     },
     "execution_count": 32,
     "metadata": {},
     "output_type": "execute_result"
    }
   ],
   "source": [
    "model = DecisionTreeClassifier()\n",
    "model.fit(X_train, y_train)\n",
    "y_pred = model.predict(X_test)\n",
    "\n",
    "print('F1 Score:', round(f1_score(y_test, y_pred), 3))\n",
    "print('Accuracy Score:', round(accuracy_score(y_test, y_pred), 3))\n",
    "print('Precision Score:', round(precision_score(y_test, y_pred), 3))\n",
    "print('Recall Score:', round(recall_score(y_test, y_pred), 3))\n",
    "\n",
    "confusion_matrix(y_test, y_pred)"
   ]
  },
  {
   "cell_type": "markdown",
   "metadata": {},
   "source": [
    "## Logistic Regression"
   ]
  },
  {
   "cell_type": "code",
   "execution_count": 33,
   "metadata": {},
   "outputs": [
    {
     "name": "stdout",
     "output_type": "stream",
     "text": [
      "F1 Score: 0.564\n",
      "Accuracy Score: 0.718\n",
      "Precision Score: 0.653\n",
      "Recall Score: 0.497\n"
     ]
    },
    {
     "data": {
      "text/plain": [
       "array([[5350,  972],\n",
       "       [1850, 1828]], dtype=int64)"
      ]
     },
     "execution_count": 33,
     "metadata": {},
     "output_type": "execute_result"
    }
   ],
   "source": [
    "model = LogisticRegression()\n",
    "model.fit(X_train, y_train)\n",
    "y_pred = model.predict(X_test)\n",
    "\n",
    "print('F1 Score:', round(f1_score(y_test, y_pred), 3))\n",
    "print('Accuracy Score:', round(accuracy_score(y_test, y_pred), 3))\n",
    "print('Precision Score:', round(precision_score(y_test, y_pred), 3))\n",
    "print('Recall Score:', round(recall_score(y_test, y_pred), 3))\n",
    "\n",
    "confusion_matrix(y_test, y_pred)"
   ]
  },
  {
   "cell_type": "markdown",
   "metadata": {},
   "source": [
    "## K-Neighbors Classifier"
   ]
  },
  {
   "cell_type": "code",
   "execution_count": 34,
   "metadata": {},
   "outputs": [
    {
     "name": "stdout",
     "output_type": "stream",
     "text": [
      "Using 3 Neighbors\n",
      "F1 Score: 0.635\n",
      "Accuracy Score: 0.74\n",
      "Precision Score: 0.655\n",
      "Recall Score: 0.616\n",
      " \n",
      "Using 5 Neighbors\n",
      "F1 Score: 0.647\n",
      "Accuracy Score: 0.75\n",
      "Precision Score: 0.675\n",
      "Recall Score: 0.621\n",
      " \n",
      "Using 7 Neighbors\n",
      "F1 Score: 0.656\n",
      "Accuracy Score: 0.758\n",
      "Precision Score: 0.686\n",
      "Recall Score: 0.629\n",
      " \n",
      "Using 9 Neighbors\n",
      "F1 Score: 0.655\n",
      "Accuracy Score: 0.759\n",
      "Precision Score: 0.69\n",
      "Recall Score: 0.624\n",
      " \n",
      "Using 11 Neighbors\n",
      "F1 Score: 0.665\n",
      "Accuracy Score: 0.765\n",
      "Precision Score: 0.699\n",
      "Recall Score: 0.634\n",
      " \n",
      "Using 13 Neighbors\n",
      "F1 Score: 0.666\n",
      "Accuracy Score: 0.766\n",
      "Precision Score: 0.7\n",
      "Recall Score: 0.635\n",
      " \n",
      "Using 15 Neighbors\n",
      "F1 Score: 0.662\n",
      "Accuracy Score: 0.764\n",
      "Precision Score: 0.698\n",
      "Recall Score: 0.629\n",
      " \n"
     ]
    }
   ],
   "source": [
    "for i in range(3, 16, 2):\n",
    "    knn = KNeighborsClassifier(n_neighbors=i)\n",
    "    knn.fit(X_train, y_train)\n",
    "    y_pred = knn.predict(X_test)\n",
    "    print('Using', i, 'Neighbors')\n",
    "    print('F1 Score:', round(f1_score(y_test, y_pred), 3))\n",
    "    print('Accuracy Score:', round(accuracy_score(y_test, y_pred), 3))\n",
    "    print('Precision Score:', round(precision_score(y_test, y_pred), 3))\n",
    "    print('Recall Score:', round(recall_score(y_test, y_pred), 3))\n",
    "    print(' ')"
   ]
  },
  {
   "cell_type": "markdown",
   "metadata": {},
   "source": [
    "## SVM"
   ]
  },
  {
   "cell_type": "code",
   "execution_count": 35,
   "metadata": {
    "scrolled": true
   },
   "outputs": [
    {
     "name": "stdout",
     "output_type": "stream",
     "text": [
      "Kernel = linear\n",
      "F1 Score: 0.507\n",
      "Accuracy Score: 0.702\n",
      "Precision Score: 0.648\n",
      "Recall Score: 0.416\n",
      " \n",
      "Kernel = poly\n",
      "F1 Score: 0.637\n",
      "Accuracy Score: 0.746\n",
      "Precision Score: 0.67\n",
      "Recall Score: 0.607\n",
      " \n",
      "Kernel = rbf\n",
      "F1 Score: 0.637\n",
      "Accuracy Score: 0.739\n",
      "Precision Score: 0.653\n",
      "Recall Score: 0.623\n",
      " \n"
     ]
    }
   ],
   "source": [
    "kernels = ['linear', 'poly', 'rbf']\n",
    "for item in kernels:\n",
    "    clf = SVC(kernel = item)\n",
    "    clf.fit(X_train, y_train)\n",
    "    y_pred = clf.predict(X_test)\n",
    "    print('Kernel =', item)\n",
    "    print('F1 Score:', round(f1_score(y_test, y_pred), 3))\n",
    "    print('Accuracy Score:', round(accuracy_score(y_test, y_pred), 3))\n",
    "    print('Precision Score:', round(precision_score(y_test, y_pred), 3))\n",
    "    print('Recall Score:', round(recall_score(y_test, y_pred), 3))\n",
    "    print(' ')"
   ]
  },
  {
   "cell_type": "markdown",
   "metadata": {},
   "source": [
    "## Modeling Conclusions"
   ]
  },
  {
   "cell_type": "markdown",
   "metadata": {},
   "source": [
    "The most accurate models for predicting rider retention from this dataset appear to be the <b>Random Forest Classifier</b>, as well as the <b>KNeighbors Classifier</b>, using 13 neighbors for prediction.  With these models, we were able to predict whether a rider became an active user with <b>over 76% accuracy</b>."
   ]
  },
  {
   "cell_type": "markdown",
   "metadata": {},
   "source": [
    "# Final Conclusions and Recommendations"
   ]
  },
  {
   "cell_type": "markdown",
   "metadata": {},
   "source": [
    "Through data exploration, it was determined that there were 4 specific variables that best predicted whether a rider signed up would still be an active user 6 months later. It appears that those users most likely to have stayed active often signed up via i-phone, resided in King's Landing, signed up as an ultimate black user, or took a higher than average # of trips in the initial 30 days. Using the data given and these variables, we were able to develop a model that can predict with over 76% accuracy.  Based on what we've seen, I would make the following recommendations.\n",
    "\n",
    "1) I-phone users were much more likely to stay on board, which may indicate that Android users may have had some difficulty using the service.  I would recommend re-evaluating the user experience and application on the Android platform, to see if there are specific issues lowering retention of Android users.\n",
    "\n",
    "2) King's Landing had a much higher retention rate, information which can provide a couple of different options. Knowing the higher likely retention, the company can hone in and focus just on the King's Landing area. However, if that is not the route the company is looking to take, it could boost marketing and increase incentives for those in the Winterfell and Astapor City areas, in an attempt to raise retention rates. \n",
    "\n",
    "3) Offer further incentives, rewards to brand new users to increase sign-up for the \"Ultimate Black\" program. Once customers are in that program, they are much more likely to stay active after 6 months.\n",
    "\n",
    "4) Offer further incentives, rewards, and initial discounts to riders over their first 30 days. The more the riders use the service in the first month, the more likely they will be to continue to use it down the line.\n"
   ]
  }
 ],
 "metadata": {
  "kernelspec": {
   "display_name": "Python 3",
   "language": "python",
   "name": "python3"
  },
  "language_info": {
   "codemirror_mode": {
    "name": "ipython",
    "version": 3
   },
   "file_extension": ".py",
   "mimetype": "text/x-python",
   "name": "python",
   "nbconvert_exporter": "python",
   "pygments_lexer": "ipython3",
   "version": "3.8.5"
  }
 },
 "nbformat": 4,
 "nbformat_minor": 4
}
