{
 "cells": [
  {
   "cell_type": "code",
   "execution_count": 1,
   "metadata": {},
   "outputs": [],
   "source": [
    "import pandas as pd\n",
    "import numpy as np\n",
    "import matplotlib.pyplot as plt\n",
    "import seaborn as sns"
   ]
  },
  {
   "cell_type": "markdown",
   "metadata": {},
   "source": [
    "# Exploratory Data Analysis"
   ]
  },
  {
   "cell_type": "code",
   "execution_count": 2,
   "metadata": {},
   "outputs": [],
   "source": [
    "logins = pd.read_json('logins.json')"
   ]
  },
  {
   "cell_type": "code",
   "execution_count": 3,
   "metadata": {},
   "outputs": [
    {
     "name": "stdout",
     "output_type": "stream",
     "text": [
      "<class 'pandas.core.frame.DataFrame'>\n",
      "RangeIndex: 93142 entries, 0 to 93141\n",
      "Data columns (total 1 columns):\n",
      " #   Column      Non-Null Count  Dtype         \n",
      "---  ------      --------------  -----         \n",
      " 0   login_time  93142 non-null  datetime64[ns]\n",
      "dtypes: datetime64[ns](1)\n",
      "memory usage: 727.8 KB\n"
     ]
    }
   ],
   "source": [
    "logins.info()"
   ]
  },
  {
   "cell_type": "code",
   "execution_count": 4,
   "metadata": {},
   "outputs": [
    {
     "data": {
      "text/html": [
       "<div>\n",
       "<style scoped>\n",
       "    .dataframe tbody tr th:only-of-type {\n",
       "        vertical-align: middle;\n",
       "    }\n",
       "\n",
       "    .dataframe tbody tr th {\n",
       "        vertical-align: top;\n",
       "    }\n",
       "\n",
       "    .dataframe thead th {\n",
       "        text-align: right;\n",
       "    }\n",
       "</style>\n",
       "<table border=\"1\" class=\"dataframe\">\n",
       "  <thead>\n",
       "    <tr style=\"text-align: right;\">\n",
       "      <th></th>\n",
       "      <th>login_time</th>\n",
       "    </tr>\n",
       "  </thead>\n",
       "  <tbody>\n",
       "    <tr>\n",
       "      <th>0</th>\n",
       "      <td>1970-01-01 20:13:18</td>\n",
       "    </tr>\n",
       "    <tr>\n",
       "      <th>1</th>\n",
       "      <td>1970-01-01 20:16:10</td>\n",
       "    </tr>\n",
       "    <tr>\n",
       "      <th>2</th>\n",
       "      <td>1970-01-01 20:16:37</td>\n",
       "    </tr>\n",
       "    <tr>\n",
       "      <th>3</th>\n",
       "      <td>1970-01-01 20:16:36</td>\n",
       "    </tr>\n",
       "    <tr>\n",
       "      <th>4</th>\n",
       "      <td>1970-01-01 20:26:21</td>\n",
       "    </tr>\n",
       "    <tr>\n",
       "      <th>5</th>\n",
       "      <td>1970-01-01 20:21:41</td>\n",
       "    </tr>\n",
       "    <tr>\n",
       "      <th>6</th>\n",
       "      <td>1970-01-01 20:12:16</td>\n",
       "    </tr>\n",
       "    <tr>\n",
       "      <th>7</th>\n",
       "      <td>1970-01-01 20:35:47</td>\n",
       "    </tr>\n",
       "    <tr>\n",
       "      <th>8</th>\n",
       "      <td>1970-01-01 20:35:38</td>\n",
       "    </tr>\n",
       "    <tr>\n",
       "      <th>9</th>\n",
       "      <td>1970-01-01 20:47:52</td>\n",
       "    </tr>\n",
       "  </tbody>\n",
       "</table>\n",
       "</div>"
      ],
      "text/plain": [
       "           login_time\n",
       "0 1970-01-01 20:13:18\n",
       "1 1970-01-01 20:16:10\n",
       "2 1970-01-01 20:16:37\n",
       "3 1970-01-01 20:16:36\n",
       "4 1970-01-01 20:26:21\n",
       "5 1970-01-01 20:21:41\n",
       "6 1970-01-01 20:12:16\n",
       "7 1970-01-01 20:35:47\n",
       "8 1970-01-01 20:35:38\n",
       "9 1970-01-01 20:47:52"
      ]
     },
     "execution_count": 4,
     "metadata": {},
     "output_type": "execute_result"
    }
   ],
   "source": [
    "logins.head(10)"
   ]
  },
  {
   "cell_type": "code",
   "execution_count": 5,
   "metadata": {
    "scrolled": true
   },
   "outputs": [
    {
     "data": {
      "text/html": [
       "<div>\n",
       "<style scoped>\n",
       "    .dataframe tbody tr th:only-of-type {\n",
       "        vertical-align: middle;\n",
       "    }\n",
       "\n",
       "    .dataframe tbody tr th {\n",
       "        vertical-align: top;\n",
       "    }\n",
       "\n",
       "    .dataframe thead th {\n",
       "        text-align: right;\n",
       "    }\n",
       "</style>\n",
       "<table border=\"1\" class=\"dataframe\">\n",
       "  <thead>\n",
       "    <tr style=\"text-align: right;\">\n",
       "      <th></th>\n",
       "      <th>login_time</th>\n",
       "    </tr>\n",
       "  </thead>\n",
       "  <tbody>\n",
       "    <tr>\n",
       "      <th>93137</th>\n",
       "      <td>1970-04-13 18:50:19</td>\n",
       "    </tr>\n",
       "    <tr>\n",
       "      <th>93138</th>\n",
       "      <td>1970-04-13 18:43:56</td>\n",
       "    </tr>\n",
       "    <tr>\n",
       "      <th>93139</th>\n",
       "      <td>1970-04-13 18:54:02</td>\n",
       "    </tr>\n",
       "    <tr>\n",
       "      <th>93140</th>\n",
       "      <td>1970-04-13 18:57:38</td>\n",
       "    </tr>\n",
       "    <tr>\n",
       "      <th>93141</th>\n",
       "      <td>1970-04-13 18:54:23</td>\n",
       "    </tr>\n",
       "  </tbody>\n",
       "</table>\n",
       "</div>"
      ],
      "text/plain": [
       "               login_time\n",
       "93137 1970-04-13 18:50:19\n",
       "93138 1970-04-13 18:43:56\n",
       "93139 1970-04-13 18:54:02\n",
       "93140 1970-04-13 18:57:38\n",
       "93141 1970-04-13 18:54:23"
      ]
     },
     "execution_count": 5,
     "metadata": {},
     "output_type": "execute_result"
    }
   ],
   "source": [
    "logins.tail()"
   ]
  },
  {
   "cell_type": "markdown",
   "metadata": {},
   "source": [
    "The timestamps are not in perfect chronological order. It will be easier to work with them if they are, so I'm going to go ahead and sort them in order."
   ]
  },
  {
   "cell_type": "code",
   "execution_count": 6,
   "metadata": {},
   "outputs": [
    {
     "data": {
      "text/html": [
       "<div>\n",
       "<style scoped>\n",
       "    .dataframe tbody tr th:only-of-type {\n",
       "        vertical-align: middle;\n",
       "    }\n",
       "\n",
       "    .dataframe tbody tr th {\n",
       "        vertical-align: top;\n",
       "    }\n",
       "\n",
       "    .dataframe thead th {\n",
       "        text-align: right;\n",
       "    }\n",
       "</style>\n",
       "<table border=\"1\" class=\"dataframe\">\n",
       "  <thead>\n",
       "    <tr style=\"text-align: right;\">\n",
       "      <th></th>\n",
       "      <th>login_time</th>\n",
       "    </tr>\n",
       "  </thead>\n",
       "  <tbody>\n",
       "    <tr>\n",
       "      <th>0</th>\n",
       "      <td>1970-01-01 20:12:16</td>\n",
       "    </tr>\n",
       "    <tr>\n",
       "      <th>1</th>\n",
       "      <td>1970-01-01 20:13:18</td>\n",
       "    </tr>\n",
       "    <tr>\n",
       "      <th>2</th>\n",
       "      <td>1970-01-01 20:16:10</td>\n",
       "    </tr>\n",
       "    <tr>\n",
       "      <th>3</th>\n",
       "      <td>1970-01-01 20:16:36</td>\n",
       "    </tr>\n",
       "    <tr>\n",
       "      <th>4</th>\n",
       "      <td>1970-01-01 20:16:37</td>\n",
       "    </tr>\n",
       "    <tr>\n",
       "      <th>...</th>\n",
       "      <td>...</td>\n",
       "    </tr>\n",
       "    <tr>\n",
       "      <th>93137</th>\n",
       "      <td>1970-04-13 18:48:52</td>\n",
       "    </tr>\n",
       "    <tr>\n",
       "      <th>93138</th>\n",
       "      <td>1970-04-13 18:50:19</td>\n",
       "    </tr>\n",
       "    <tr>\n",
       "      <th>93139</th>\n",
       "      <td>1970-04-13 18:54:02</td>\n",
       "    </tr>\n",
       "    <tr>\n",
       "      <th>93140</th>\n",
       "      <td>1970-04-13 18:54:23</td>\n",
       "    </tr>\n",
       "    <tr>\n",
       "      <th>93141</th>\n",
       "      <td>1970-04-13 18:57:38</td>\n",
       "    </tr>\n",
       "  </tbody>\n",
       "</table>\n",
       "<p>93142 rows × 1 columns</p>\n",
       "</div>"
      ],
      "text/plain": [
       "               login_time\n",
       "0     1970-01-01 20:12:16\n",
       "1     1970-01-01 20:13:18\n",
       "2     1970-01-01 20:16:10\n",
       "3     1970-01-01 20:16:36\n",
       "4     1970-01-01 20:16:37\n",
       "...                   ...\n",
       "93137 1970-04-13 18:48:52\n",
       "93138 1970-04-13 18:50:19\n",
       "93139 1970-04-13 18:54:02\n",
       "93140 1970-04-13 18:54:23\n",
       "93141 1970-04-13 18:57:38\n",
       "\n",
       "[93142 rows x 1 columns]"
      ]
     },
     "execution_count": 6,
     "metadata": {},
     "output_type": "execute_result"
    }
   ],
   "source": [
    "logins = logins.sort_values('login_time').reset_index(drop=True)\n",
    "logins"
   ]
  },
  {
   "cell_type": "code",
   "execution_count": 7,
   "metadata": {},
   "outputs": [
    {
     "name": "stdout",
     "output_type": "stream",
     "text": [
      "<class 'pandas.core.frame.DataFrame'>\n",
      "RangeIndex: 9788 entries, 0 to 9787\n",
      "Data columns (total 2 columns):\n",
      " #   Column       Non-Null Count  Dtype         \n",
      "---  ------       --------------  -----         \n",
      " 0   login_time   9788 non-null   datetime64[ns]\n",
      " 1   # of logins  9788 non-null   int64         \n",
      "dtypes: datetime64[ns](1), int64(1)\n",
      "memory usage: 153.1 KB\n"
     ]
    }
   ],
   "source": [
    "df = logins.resample('15Min', on = 'login_time').count()\n",
    "# df.login_time = pd.to_datetime(df.login_time, infer_datetime_format = True)\n",
    "df = df.rename(columns = {'login_time': '# of logins'}).reset_index()\n",
    "df.info()"
   ]
  },
  {
   "cell_type": "markdown",
   "metadata": {},
   "source": [
    "It will also be helpful to know which day of the week corresponds to each date, so I'm going to create another column for our dataframe and assign the name of the weekday."
   ]
  },
  {
   "cell_type": "code",
   "execution_count": 8,
   "metadata": {},
   "outputs": [
    {
     "data": {
      "text/html": [
       "<div>\n",
       "<style scoped>\n",
       "    .dataframe tbody tr th:only-of-type {\n",
       "        vertical-align: middle;\n",
       "    }\n",
       "\n",
       "    .dataframe tbody tr th {\n",
       "        vertical-align: top;\n",
       "    }\n",
       "\n",
       "    .dataframe thead th {\n",
       "        text-align: right;\n",
       "    }\n",
       "</style>\n",
       "<table border=\"1\" class=\"dataframe\">\n",
       "  <thead>\n",
       "    <tr style=\"text-align: right;\">\n",
       "      <th></th>\n",
       "      <th>login_time</th>\n",
       "      <th># of logins</th>\n",
       "      <th>weekday</th>\n",
       "    </tr>\n",
       "  </thead>\n",
       "  <tbody>\n",
       "    <tr>\n",
       "      <th>0</th>\n",
       "      <td>1970-01-01 20:00:00</td>\n",
       "      <td>2</td>\n",
       "      <td>Thursday</td>\n",
       "    </tr>\n",
       "    <tr>\n",
       "      <th>1</th>\n",
       "      <td>1970-01-01 20:15:00</td>\n",
       "      <td>6</td>\n",
       "      <td>Thursday</td>\n",
       "    </tr>\n",
       "    <tr>\n",
       "      <th>2</th>\n",
       "      <td>1970-01-01 20:30:00</td>\n",
       "      <td>9</td>\n",
       "      <td>Thursday</td>\n",
       "    </tr>\n",
       "    <tr>\n",
       "      <th>3</th>\n",
       "      <td>1970-01-01 20:45:00</td>\n",
       "      <td>7</td>\n",
       "      <td>Thursday</td>\n",
       "    </tr>\n",
       "    <tr>\n",
       "      <th>4</th>\n",
       "      <td>1970-01-01 21:00:00</td>\n",
       "      <td>1</td>\n",
       "      <td>Thursday</td>\n",
       "    </tr>\n",
       "    <tr>\n",
       "      <th>...</th>\n",
       "      <td>...</td>\n",
       "      <td>...</td>\n",
       "      <td>...</td>\n",
       "    </tr>\n",
       "    <tr>\n",
       "      <th>9783</th>\n",
       "      <td>1970-04-13 17:45:00</td>\n",
       "      <td>5</td>\n",
       "      <td>Monday</td>\n",
       "    </tr>\n",
       "    <tr>\n",
       "      <th>9784</th>\n",
       "      <td>1970-04-13 18:00:00</td>\n",
       "      <td>5</td>\n",
       "      <td>Monday</td>\n",
       "    </tr>\n",
       "    <tr>\n",
       "      <th>9785</th>\n",
       "      <td>1970-04-13 18:15:00</td>\n",
       "      <td>2</td>\n",
       "      <td>Monday</td>\n",
       "    </tr>\n",
       "    <tr>\n",
       "      <th>9786</th>\n",
       "      <td>1970-04-13 18:30:00</td>\n",
       "      <td>7</td>\n",
       "      <td>Monday</td>\n",
       "    </tr>\n",
       "    <tr>\n",
       "      <th>9787</th>\n",
       "      <td>1970-04-13 18:45:00</td>\n",
       "      <td>6</td>\n",
       "      <td>Monday</td>\n",
       "    </tr>\n",
       "  </tbody>\n",
       "</table>\n",
       "<p>9788 rows × 3 columns</p>\n",
       "</div>"
      ],
      "text/plain": [
       "              login_time  # of logins   weekday\n",
       "0    1970-01-01 20:00:00            2  Thursday\n",
       "1    1970-01-01 20:15:00            6  Thursday\n",
       "2    1970-01-01 20:30:00            9  Thursday\n",
       "3    1970-01-01 20:45:00            7  Thursday\n",
       "4    1970-01-01 21:00:00            1  Thursday\n",
       "...                  ...          ...       ...\n",
       "9783 1970-04-13 17:45:00            5    Monday\n",
       "9784 1970-04-13 18:00:00            5    Monday\n",
       "9785 1970-04-13 18:15:00            2    Monday\n",
       "9786 1970-04-13 18:30:00            7    Monday\n",
       "9787 1970-04-13 18:45:00            6    Monday\n",
       "\n",
       "[9788 rows x 3 columns]"
      ]
     },
     "execution_count": 8,
     "metadata": {},
     "output_type": "execute_result"
    }
   ],
   "source": [
    "df['weekday'] = df['login_time'].dt.dayofweek\n",
    "df['weekday'] = df['weekday'].map({0:'Monday', 1:'Tuesday', 2:'Wednesday', 3:'Thursday', 4:'Friday', 5:'Saturday', 6:'Sunday'})\n",
    "df"
   ]
  },
  {
   "cell_type": "code",
   "execution_count": 9,
   "metadata": {},
   "outputs": [
    {
     "data": {
      "image/png": "[encoded data removed]",
      "text/plain": [
       "<Figure size 864x432 with 1 Axes>"
      ]
     },
     "metadata": {
      "needs_background": "light"
     },
     "output_type": "display_data"
    }
   ],
   "source": [
    "count_by_weekday = df.groupby('weekday').agg('sum').reset_index()\n",
    "wkday_list = ['Monday', 'Tuesday', 'Wednesday', 'Thursday', 'Friday', 'Saturday', 'Sunday']\n",
    "\n",
    "plt.figure(figsize = (12, 6))\n",
    "sns.barplot(x = 'weekday', y = '# of logins', data = count_by_weekday, order = wkday_list)\n",
    "plt.title('Total Log-ins by Weekday')\n",
    "plt.show()\n"
   ]
  },
  {
   "cell_type": "markdown",
   "metadata": {},
   "source": [
    "The log-in counts of each weekday already show us that log-ins increase over the course of the week, peaking on the weekends, Saturday in particular."
   ]
  },
  {
   "cell_type": "markdown",
   "metadata": {},
   "source": [
    "I want to be able to group by both dates and time intervals, so it may make things easier to work with if I split my 'login time' column up in to 2 separate columns, 'date' and 'time'."
   ]
  },
  {
   "cell_type": "code",
   "execution_count": 10,
   "metadata": {},
   "outputs": [
    {
     "data": {
      "text/html": [
       "<div>\n",
       "<style scoped>\n",
       "    .dataframe tbody tr th:only-of-type {\n",
       "        vertical-align: middle;\n",
       "    }\n",
       "\n",
       "    .dataframe tbody tr th {\n",
       "        vertical-align: top;\n",
       "    }\n",
       "\n",
       "    .dataframe thead th {\n",
       "        text-align: right;\n",
       "    }\n",
       "</style>\n",
       "<table border=\"1\" class=\"dataframe\">\n",
       "  <thead>\n",
       "    <tr style=\"text-align: right;\">\n",
       "      <th></th>\n",
       "      <th>date</th>\n",
       "      <th>time</th>\n",
       "      <th>weekday</th>\n",
       "      <th># of logins</th>\n",
       "    </tr>\n",
       "  </thead>\n",
       "  <tbody>\n",
       "    <tr>\n",
       "      <th>0</th>\n",
       "      <td>1970-01-01</td>\n",
       "      <td>20:00:00</td>\n",
       "      <td>Thursday</td>\n",
       "      <td>2</td>\n",
       "    </tr>\n",
       "    <tr>\n",
       "      <th>1</th>\n",
       "      <td>1970-01-01</td>\n",
       "      <td>20:15:00</td>\n",
       "      <td>Thursday</td>\n",
       "      <td>6</td>\n",
       "    </tr>\n",
       "    <tr>\n",
       "      <th>2</th>\n",
       "      <td>1970-01-01</td>\n",
       "      <td>20:30:00</td>\n",
       "      <td>Thursday</td>\n",
       "      <td>9</td>\n",
       "    </tr>\n",
       "    <tr>\n",
       "      <th>3</th>\n",
       "      <td>1970-01-01</td>\n",
       "      <td>20:45:00</td>\n",
       "      <td>Thursday</td>\n",
       "      <td>7</td>\n",
       "    </tr>\n",
       "    <tr>\n",
       "      <th>4</th>\n",
       "      <td>1970-01-01</td>\n",
       "      <td>21:00:00</td>\n",
       "      <td>Thursday</td>\n",
       "      <td>1</td>\n",
       "    </tr>\n",
       "    <tr>\n",
       "      <th>...</th>\n",
       "      <td>...</td>\n",
       "      <td>...</td>\n",
       "      <td>...</td>\n",
       "      <td>...</td>\n",
       "    </tr>\n",
       "    <tr>\n",
       "      <th>9783</th>\n",
       "      <td>1970-04-13</td>\n",
       "      <td>17:45:00</td>\n",
       "      <td>Monday</td>\n",
       "      <td>5</td>\n",
       "    </tr>\n",
       "    <tr>\n",
       "      <th>9784</th>\n",
       "      <td>1970-04-13</td>\n",
       "      <td>18:00:00</td>\n",
       "      <td>Monday</td>\n",
       "      <td>5</td>\n",
       "    </tr>\n",
       "    <tr>\n",
       "      <th>9785</th>\n",
       "      <td>1970-04-13</td>\n",
       "      <td>18:15:00</td>\n",
       "      <td>Monday</td>\n",
       "      <td>2</td>\n",
       "    </tr>\n",
       "    <tr>\n",
       "      <th>9786</th>\n",
       "      <td>1970-04-13</td>\n",
       "      <td>18:30:00</td>\n",
       "      <td>Monday</td>\n",
       "      <td>7</td>\n",
       "    </tr>\n",
       "    <tr>\n",
       "      <th>9787</th>\n",
       "      <td>1970-04-13</td>\n",
       "      <td>18:45:00</td>\n",
       "      <td>Monday</td>\n",
       "      <td>6</td>\n",
       "    </tr>\n",
       "  </tbody>\n",
       "</table>\n",
       "<p>9788 rows × 4 columns</p>\n",
       "</div>"
      ],
      "text/plain": [
       "            date      time   weekday  # of logins\n",
       "0     1970-01-01  20:00:00  Thursday            2\n",
       "1     1970-01-01  20:15:00  Thursday            6\n",
       "2     1970-01-01  20:30:00  Thursday            9\n",
       "3     1970-01-01  20:45:00  Thursday            7\n",
       "4     1970-01-01  21:00:00  Thursday            1\n",
       "...          ...       ...       ...          ...\n",
       "9783  1970-04-13  17:45:00    Monday            5\n",
       "9784  1970-04-13  18:00:00    Monday            5\n",
       "9785  1970-04-13  18:15:00    Monday            2\n",
       "9786  1970-04-13  18:30:00    Monday            7\n",
       "9787  1970-04-13  18:45:00    Monday            6\n",
       "\n",
       "[9788 rows x 4 columns]"
      ]
     },
     "execution_count": 10,
     "metadata": {},
     "output_type": "execute_result"
    }
   ],
   "source": [
    "df['date'] = pd.to_datetime(df.login_time).dt.date\n",
    "df['time'] = pd.to_datetime(df.login_time).dt.time\n",
    "df = df[['date', 'time', 'weekday', '# of logins']]\n",
    "df"
   ]
  },
  {
   "cell_type": "code",
   "execution_count": 14,
   "metadata": {},
   "outputs": [
    {
     "name": "stdout",
     "output_type": "stream",
     "text": [
      "<class 'pandas.core.frame.DataFrame'>\n",
      "RangeIndex: 103 entries, 0 to 102\n",
      "Data columns (total 2 columns):\n",
      " #   Column       Non-Null Count  Dtype \n",
      "---  ------       --------------  ----- \n",
      " 0   date         103 non-null    object\n",
      " 1   # of logins  103 non-null    int64 \n",
      "dtypes: int64(1), object(1)\n",
      "memory usage: 1.7+ KB\n"
     ]
    },
    {
     "data": {
      "image/png": "[encoded data removed]",
      "text/plain": [
       "<Figure size 864x432 with 1 Axes>"
      ]
     },
     "metadata": {
      "needs_background": "light"
     },
     "output_type": "display_data"
    }
   ],
   "source": [
    "count_by_date = df.groupby('date').agg('sum').reset_index()\n",
    "count_by_date.info()\n",
    "\n",
    "plt.figure(figsize=(12, 6))\n",
    "sns.scatterplot(x = 'date', y = '# of logins', data = count_by_date)\n",
    "plt.title('Daily Log-ins Over Time')\n",
    "plt.show()"
   ]
  },
  {
   "cell_type": "markdown",
   "metadata": {},
   "source": [
    "We can see a gradual increase in log-ins per day as we move from January to early April."
   ]
  },
  {
   "cell_type": "code",
   "execution_count": 45,
   "metadata": {
    "scrolled": true
   },
   "outputs": [
    {
     "data": {
      "image/png": "[encoded data removed]",
      "text/plain": [
       "<Figure size 1152x576 with 1 Axes>"
      ]
     },
     "metadata": {
      "needs_background": "light"
     },
     "output_type": "display_data"
    }
   ],
   "source": [
    "count_by_int = df.groupby('time').agg('mean').reset_index()\n",
    "count_by_int['time'] = count_by_int['time'].astype(str)\n",
    "\n",
    "plt.figure(figsize=(16, 8))\n",
    "sns.scatterplot(x = 'time', y = '# of logins', data = count_by_int)\n",
    "plt.xticks(rotation=90, fontsize=7)\n",
    "plt.title('Average Log-ins by 15 Minute Interval')\n",
    "plt.show()"
   ]
  },
  {
   "cell_type": "code",
   "execution_count": 42,
   "metadata": {},
   "outputs": [
    {
     "data": {
      "text/html": [
       "<div>\n",
       "<style scoped>\n",
       "    .dataframe tbody tr th:only-of-type {\n",
       "        vertical-align: middle;\n",
       "    }\n",
       "\n",
       "    .dataframe tbody tr th {\n",
       "        vertical-align: top;\n",
       "    }\n",
       "\n",
       "    .dataframe thead th {\n",
       "        text-align: right;\n",
       "    }\n",
       "</style>\n",
       "<table border=\"1\" class=\"dataframe\">\n",
       "  <thead>\n",
       "    <tr style=\"text-align: right;\">\n",
       "      <th></th>\n",
       "      <th>time</th>\n",
       "      <th># of logins</th>\n",
       "    </tr>\n",
       "  </thead>\n",
       "  <tbody>\n",
       "    <tr>\n",
       "      <th>90</th>\n",
       "      <td>22:30:00</td>\n",
       "      <td>16.509804</td>\n",
       "    </tr>\n",
       "    <tr>\n",
       "      <th>6</th>\n",
       "      <td>01:30:00</td>\n",
       "      <td>16.401961</td>\n",
       "    </tr>\n",
       "    <tr>\n",
       "      <th>89</th>\n",
       "      <td>22:15:00</td>\n",
       "      <td>16.196078</td>\n",
       "    </tr>\n",
       "    <tr>\n",
       "      <th>91</th>\n",
       "      <td>22:45:00</td>\n",
       "      <td>16.049020</td>\n",
       "    </tr>\n",
       "    <tr>\n",
       "      <th>88</th>\n",
       "      <td>22:00:00</td>\n",
       "      <td>16.019608</td>\n",
       "    </tr>\n",
       "    <tr>\n",
       "      <th>46</th>\n",
       "      <td>11:30:00</td>\n",
       "      <td>15.901961</td>\n",
       "    </tr>\n",
       "    <tr>\n",
       "      <th>5</th>\n",
       "      <td>01:15:00</td>\n",
       "      <td>15.666667</td>\n",
       "    </tr>\n",
       "    <tr>\n",
       "      <th>92</th>\n",
       "      <td>23:00:00</td>\n",
       "      <td>15.421569</td>\n",
       "    </tr>\n",
       "    <tr>\n",
       "      <th>47</th>\n",
       "      <td>11:45:00</td>\n",
       "      <td>15.392157</td>\n",
       "    </tr>\n",
       "    <tr>\n",
       "      <th>87</th>\n",
       "      <td>21:45:00</td>\n",
       "      <td>15.235294</td>\n",
       "    </tr>\n",
       "  </tbody>\n",
       "</table>\n",
       "</div>"
      ],
      "text/plain": [
       "        time  # of logins\n",
       "90  22:30:00    16.509804\n",
       "6   01:30:00    16.401961\n",
       "89  22:15:00    16.196078\n",
       "91  22:45:00    16.049020\n",
       "88  22:00:00    16.019608\n",
       "46  11:30:00    15.901961\n",
       "5   01:15:00    15.666667\n",
       "92  23:00:00    15.421569\n",
       "47  11:45:00    15.392157\n",
       "87  21:45:00    15.235294"
      ]
     },
     "execution_count": 42,
     "metadata": {},
     "output_type": "execute_result"
    }
   ],
   "source": [
    "count_by_int.nlargest(10, '# of logins')"
   ]
  },
  {
   "cell_type": "code",
   "execution_count": 46,
   "metadata": {},
   "outputs": [
    {
     "data": {
      "text/html": [
       "<div>\n",
       "<style scoped>\n",
       "    .dataframe tbody tr th:only-of-type {\n",
       "        vertical-align: middle;\n",
       "    }\n",
       "\n",
       "    .dataframe tbody tr th {\n",
       "        vertical-align: top;\n",
       "    }\n",
       "\n",
       "    .dataframe thead th {\n",
       "        text-align: right;\n",
       "    }\n",
       "</style>\n",
       "<table border=\"1\" class=\"dataframe\">\n",
       "  <thead>\n",
       "    <tr style=\"text-align: right;\">\n",
       "      <th></th>\n",
       "      <th>time</th>\n",
       "      <th># of logins</th>\n",
       "    </tr>\n",
       "  </thead>\n",
       "  <tbody>\n",
       "    <tr>\n",
       "      <th>31</th>\n",
       "      <td>07:45:00</td>\n",
       "      <td>1.715686</td>\n",
       "    </tr>\n",
       "    <tr>\n",
       "      <th>33</th>\n",
       "      <td>08:15:00</td>\n",
       "      <td>1.754902</td>\n",
       "    </tr>\n",
       "    <tr>\n",
       "      <th>32</th>\n",
       "      <td>08:00:00</td>\n",
       "      <td>1.872549</td>\n",
       "    </tr>\n",
       "    <tr>\n",
       "      <th>30</th>\n",
       "      <td>07:30:00</td>\n",
       "      <td>1.882353</td>\n",
       "    </tr>\n",
       "    <tr>\n",
       "      <th>27</th>\n",
       "      <td>06:45:00</td>\n",
       "      <td>2.098039</td>\n",
       "    </tr>\n",
       "    <tr>\n",
       "      <th>28</th>\n",
       "      <td>07:00:00</td>\n",
       "      <td>2.147059</td>\n",
       "    </tr>\n",
       "    <tr>\n",
       "      <th>34</th>\n",
       "      <td>08:30:00</td>\n",
       "      <td>2.166667</td>\n",
       "    </tr>\n",
       "    <tr>\n",
       "      <th>35</th>\n",
       "      <td>08:45:00</td>\n",
       "      <td>2.225490</td>\n",
       "    </tr>\n",
       "    <tr>\n",
       "      <th>29</th>\n",
       "      <td>07:15:00</td>\n",
       "      <td>2.245098</td>\n",
       "    </tr>\n",
       "    <tr>\n",
       "      <th>26</th>\n",
       "      <td>06:30:00</td>\n",
       "      <td>2.303922</td>\n",
       "    </tr>\n",
       "  </tbody>\n",
       "</table>\n",
       "</div>"
      ],
      "text/plain": [
       "        time  # of logins\n",
       "31  07:45:00     1.715686\n",
       "33  08:15:00     1.754902\n",
       "32  08:00:00     1.872549\n",
       "30  07:30:00     1.882353\n",
       "27  06:45:00     2.098039\n",
       "28  07:00:00     2.147059\n",
       "34  08:30:00     2.166667\n",
       "35  08:45:00     2.225490\n",
       "29  07:15:00     2.245098\n",
       "26  06:30:00     2.303922"
      ]
     },
     "execution_count": 46,
     "metadata": {},
     "output_type": "execute_result"
    }
   ],
   "source": [
    "count_by_int.nsmallest(10, '# of logins')"
   ]
  },
  {
   "cell_type": "markdown",
   "metadata": {},
   "source": [
    "My scatterplot shows 3 distinct peaks during the day for log-ins, a first peak in the first hours of the day from around 01:00 to 02:00 and then a 2nd peak right around 11:00 to 12:00 hour. There is then a a 3rd peak from around 22:00 to 23:00, which makes for the busiest hour on average during the entire day, as 4 of the 5 intervals with the largest # of log-ins occurs during this time.\n",
    "\n",
    "In terms of the least busiest times, our 10 least busiest interals ALL fall within the morning hours between 6:30 to 8:30.  While there is a peak at lunch and then a gradual drop in traffic after 12:00 that bottoms out around 17:00, the afternoon low is still about 3 times as busy as the morning low.\n"
   ]
  },
  {
   "cell_type": "markdown",
   "metadata": {},
   "source": [
    "# Experiment and Metrics Design"
   ]
  },
  {
   "cell_type": "markdown",
   "metadata": {},
   "source": [
    "1) I would use as my metric the # (or percentage) of drivers that gave rides in both cities within a specific timespan. I would choose this metric because the goal is to have more drivers covering both cities, and tracking this will tell us if that is occurring.\n",
    "\n",
    "2) Assuming I have records on the location and # of driver trips per day for each driver, I would compare this data from before the experiment was implemented with the data from after implementation. I would be looking for an uptick in the # of drivers taking trips in both cities, and would use an A/B test to look for statistical significance in any difference I do find. I would test the null hypothesis that the experiment made no difference in daily #'s, and use permutation sampling to come up with a P-value, which would assess the probability that my null hypothesis could be wrong, given the results found.  Only with a P-value of below .05 could I reject the null hypothesis and ascertain that it is most likely that the experiment did determine the found differences."
   ]
  }
 ],
 "metadata": {
  "kernelspec": {
   "display_name": "Python 3",
   "language": "python",
   "name": "python3"
  },
  "language_info": {
   "codemirror_mode": {
    "name": "ipython",
    "version": 3
   },
   "file_extension": ".py",
   "mimetype": "text/x-python",
   "name": "python",
   "nbconvert_exporter": "python",
   "pygments_lexer": "ipython3",
   "version": "3.8.5"
  }
 },
 "nbformat": 4,
 "nbformat_minor": 4
}
